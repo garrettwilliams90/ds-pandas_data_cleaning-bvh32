{
 "cells": [
  {
   "cell_type": "markdown",
   "metadata": {
    "toc": true
   },
   "source": [
    "<h1>Table of Contents<span class=\"tocSkip\"></span></h1>\n",
    "<div class=\"toc\"><ul class=\"toc-item\"><li><span><a href=\"#Objectives\" data-toc-modified-id=\"Objectives-1\"><span class=\"toc-item-num\">1&nbsp;&nbsp;</span>Objectives</a></span></li><li><span><a href=\"#More-Pandas\" data-toc-modified-id=\"More-Pandas-2\"><span class=\"toc-item-num\">2&nbsp;&nbsp;</span>More Pandas</a></span><ul class=\"toc-item\"><li><span><a href=\"#Loading-the-Data\" data-toc-modified-id=\"Loading-the-Data-2.1\"><span class=\"toc-item-num\">2.1&nbsp;&nbsp;</span>Loading the Data</a></span></li></ul></li><li><span><a href=\"#Exploratory-Data-Analysis-(EDA)\" data-toc-modified-id=\"Exploratory-Data-Analysis-(EDA)-3\"><span class=\"toc-item-num\">3&nbsp;&nbsp;</span>Exploratory Data Analysis (EDA)</a></span><ul class=\"toc-item\"><li><span><a href=\"#Inspecting-the-Data\" data-toc-modified-id=\"Inspecting-the-Data-3.1\"><span class=\"toc-item-num\">3.1&nbsp;&nbsp;</span>Inspecting the Data</a></span></li><li><span><a href=\"#Question-1:-What-animal-types-are-in-the-dataset?\" data-toc-modified-id=\"Question-1:-What-animal-types-are-in-the-dataset?-3.2\"><span class=\"toc-item-num\">3.2&nbsp;&nbsp;</span>Question 1: What animal types are in the dataset?</a></span></li><li><span><a href=\"#Question-2:-What-&quot;Other&quot;-animals-are-in-the-dataset?\" data-toc-modified-id=\"Question-2:-What-&quot;Other&quot;-animals-are-in-the-dataset?-3.3\"><span class=\"toc-item-num\">3.3&nbsp;&nbsp;</span>Question 2: What \"Other\" animals are in the dataset?</a></span></li><li><span><a href=\"#Question-3:-How-old-are-the-animals-in-our-dataset?\" data-toc-modified-id=\"Question-3:-How-old-are-the-animals-in-our-dataset?-3.4\"><span class=\"toc-item-num\">3.4&nbsp;&nbsp;</span>Question 3: How old are the animals in our dataset?</a></span><ul class=\"toc-item\"><li><span><a href=\"#Series.map()\" data-toc-modified-id=\"Series.map()-3.4.1\"><span class=\"toc-item-num\">3.4.1&nbsp;&nbsp;</span><code>Series.map()</code></a></span></li><li><span><a href=\"#More-Sophisticated-Mapping\" data-toc-modified-id=\"More-Sophisticated-Mapping-3.4.2\"><span class=\"toc-item-num\">3.4.2&nbsp;&nbsp;</span>More Sophisticated Mapping</a></span></li><li><span><a href=\"#Lambda-Functions\" data-toc-modified-id=\"Lambda-Functions-3.4.3\"><span class=\"toc-item-num\">3.4.3&nbsp;&nbsp;</span>Lambda Functions</a></span></li></ul></li></ul></li><li><span><a href=\"#Handling-Missing-Data\" data-toc-modified-id=\"Handling-Missing-Data-4\"><span class=\"toc-item-num\">4&nbsp;&nbsp;</span>Handling Missing Data</a></span><ul class=\"toc-item\"><li><span><a href=\"#Fill-with-a-Relevant-Value\" data-toc-modified-id=\"Fill-with-a-Relevant-Value-4.1\"><span class=\"toc-item-num\">4.1&nbsp;&nbsp;</span>Fill with a Relevant Value</a></span></li><li><span><a href=\"#Fill-with-a-Reasonable-Value\" data-toc-modified-id=\"Fill-with-a-Reasonable-Value-4.2\"><span class=\"toc-item-num\">4.2&nbsp;&nbsp;</span>Fill with a Reasonable Value</a></span></li><li><span><a href=\"#Specify-That-the-Data-Were-Missing\" data-toc-modified-id=\"Specify-That-the-Data-Were-Missing-4.3\"><span class=\"toc-item-num\">4.3&nbsp;&nbsp;</span>Specify That the Data Were Missing</a></span></li><li><span><a href=\"#Drop-Missing-Data\" data-toc-modified-id=\"Drop-Missing-Data-4.4\"><span class=\"toc-item-num\">4.4&nbsp;&nbsp;</span>Drop Missing Data</a></span></li><li><span><a href=\"#Comparing-Before-and-After\" data-toc-modified-id=\"Comparing-Before-and-After-4.5\"><span class=\"toc-item-num\">4.5&nbsp;&nbsp;</span>Comparing Before and After</a></span></li></ul></li><li><span><a href=\"#Level-Up:-.applymap()\" data-toc-modified-id=\"Level-Up:-.applymap()-5\"><span class=\"toc-item-num\">5&nbsp;&nbsp;</span>Level Up: <code>.applymap()</code></a></span></li><li><span><a href=\"#Level-Up:-Faster-NumPy-Methods\" data-toc-modified-id=\"Level-Up:-Faster-NumPy-Methods-6\"><span class=\"toc-item-num\">6&nbsp;&nbsp;</span>Level Up: Faster NumPy Methods</a></span><ul class=\"toc-item\"><li><span><a href=\"#NumPy's-where()-Method\" data-toc-modified-id=\"NumPy's-where()-Method-6.1\"><span class=\"toc-item-num\">6.1&nbsp;&nbsp;</span>NumPy's <code>where()</code> Method</a></span></li><li><span><a href=\"#NumPy's-select()-Method\" data-toc-modified-id=\"NumPy's-select()-Method-6.2\"><span class=\"toc-item-num\">6.2&nbsp;&nbsp;</span>NumPy's <code>select()</code> Method</a></span></li></ul></li></ul></div>"
   ]
  },
  {
   "cell_type": "markdown",
   "metadata": {},
   "source": [
    "![panda](http://res.freestockphotos.biz/thumbs/3/3173-illustration-of-a-giant-panda-eating-bamboo-th.png)"
   ]
  },
  {
   "cell_type": "code",
   "execution_count": 1,
   "metadata": {},
   "outputs": [],
   "source": [
    "import numpy as np\n",
    "import pandas as pd\n",
    "\n",
    "from matplotlib import pyplot as plt\n",
    "%matplotlib inline"
   ]
  },
  {
   "cell_type": "markdown",
   "metadata": {
    "heading_collapsed": true
   },
   "source": [
    "# Objectives"
   ]
  },
  {
   "cell_type": "markdown",
   "metadata": {
    "hidden": true
   },
   "source": [
    "- Use lambda functions and DataFrame methods to transform data\n",
    "- Handle missing data"
   ]
  },
  {
   "cell_type": "markdown",
   "metadata": {
    "heading_collapsed": true
   },
   "source": [
    "# More Pandas"
   ]
  },
  {
   "cell_type": "markdown",
   "metadata": {
    "hidden": true
   },
   "source": [
    "Suppose you were interested in opening an animal shelter. To inform your planning, it would be useful to analyze data from other shelters to understand their operations. In this lecture, we'll analyze animal outcome data from the Austin Animal Center.  "
   ]
  },
  {
   "cell_type": "markdown",
   "metadata": {
    "heading_collapsed": true,
    "hidden": true
   },
   "source": [
    "## Loading the Data"
   ]
  },
  {
   "cell_type": "markdown",
   "metadata": {
    "hidden": true
   },
   "source": [
    "Let's take a moment to examine the [Austin Animal Center data set](https://data.austintexas.gov/Health-and-Community-Services/Austin-Animal-Center-Outcomes/9t4d-g238/data). \n",
    "\n",
    "We can also ingest the data right off the web, as we do below. The code below will load JSON data for the last 1000 animals to leave the center from this [JSON file](https://data.austintexas.gov/resource/9t4d-g238.json). "
   ]
  },
  {
   "cell_type": "code",
   "execution_count": 2,
   "metadata": {
    "hidden": true
   },
   "outputs": [],
   "source": [
    "json_url = 'https://data.austintexas.gov/resource/9t4d-g238.json'\n",
    "animals = pd.read_json(json_url)"
   ]
  },
  {
   "cell_type": "markdown",
   "metadata": {
    "heading_collapsed": true
   },
   "source": [
    "# Exploratory Data Analysis (EDA)"
   ]
  },
  {
   "cell_type": "markdown",
   "metadata": {
    "hidden": true
   },
   "source": [
    "Exploring a new dataset is essential for understanding what it contains. This will generate ideas for processing the data and questions to try to answer in further analysis."
   ]
  },
  {
   "cell_type": "markdown",
   "metadata": {
    "heading_collapsed": true,
    "hidden": true
   },
   "source": [
    "## Inspecting the Data"
   ]
  },
  {
   "cell_type": "markdown",
   "metadata": {
    "hidden": true
   },
   "source": [
    "Let's take a look at a few rows of data."
   ]
  },
  {
   "cell_type": "code",
   "execution_count": 4,
   "metadata": {
    "hidden": true
   },
   "outputs": [
    {
     "data": {
      "text/html": [
       "<div>\n",
       "<style scoped>\n",
       "    .dataframe tbody tr th:only-of-type {\n",
       "        vertical-align: middle;\n",
       "    }\n",
       "\n",
       "    .dataframe tbody tr th {\n",
       "        vertical-align: top;\n",
       "    }\n",
       "\n",
       "    .dataframe thead th {\n",
       "        text-align: right;\n",
       "    }\n",
       "</style>\n",
       "<table border=\"1\" class=\"dataframe\">\n",
       "  <thead>\n",
       "    <tr style=\"text-align: right;\">\n",
       "      <th></th>\n",
       "      <th>animal_id</th>\n",
       "      <th>name</th>\n",
       "      <th>datetime</th>\n",
       "      <th>monthyear</th>\n",
       "      <th>date_of_birth</th>\n",
       "      <th>outcome_type</th>\n",
       "      <th>outcome_subtype</th>\n",
       "      <th>animal_type</th>\n",
       "      <th>sex_upon_outcome</th>\n",
       "      <th>age_upon_outcome</th>\n",
       "      <th>breed</th>\n",
       "      <th>color</th>\n",
       "    </tr>\n",
       "  </thead>\n",
       "  <tbody>\n",
       "    <tr>\n",
       "      <th>0</th>\n",
       "      <td>A740038</td>\n",
       "      <td>*Pearl</td>\n",
       "      <td>2021-09-03 11:26:00</td>\n",
       "      <td>2021-09-03T11:26:00.000</td>\n",
       "      <td>2016-10-10T00:00:00.000</td>\n",
       "      <td>Transfer</td>\n",
       "      <td>Partner</td>\n",
       "      <td>Dog</td>\n",
       "      <td>Spayed Female</td>\n",
       "      <td>4 years</td>\n",
       "      <td>Dachshund Wirehair Mix</td>\n",
       "      <td>Black</td>\n",
       "    </tr>\n",
       "    <tr>\n",
       "      <th>1</th>\n",
       "      <td>A841793</td>\n",
       "      <td>73 Grams</td>\n",
       "      <td>2021-09-03 11:11:00</td>\n",
       "      <td>2021-09-03T11:11:00.000</td>\n",
       "      <td>2021-09-01T00:00:00.000</td>\n",
       "      <td>Transfer</td>\n",
       "      <td>Partner</td>\n",
       "      <td>Cat</td>\n",
       "      <td>Intact Female</td>\n",
       "      <td>2 days</td>\n",
       "      <td>Domestic Shorthair</td>\n",
       "      <td>White/Black</td>\n",
       "    </tr>\n",
       "    <tr>\n",
       "      <th>2</th>\n",
       "      <td>A841589</td>\n",
       "      <td>A841589</td>\n",
       "      <td>2021-09-03 11:04:00</td>\n",
       "      <td>2021-09-03T11:04:00.000</td>\n",
       "      <td>2020-08-30T00:00:00.000</td>\n",
       "      <td>Transfer</td>\n",
       "      <td>Partner</td>\n",
       "      <td>Dog</td>\n",
       "      <td>Intact Male</td>\n",
       "      <td>1 year</td>\n",
       "      <td>Australian Shepherd Mix</td>\n",
       "      <td>Blue Merle</td>\n",
       "    </tr>\n",
       "    <tr>\n",
       "      <th>3</th>\n",
       "      <td>A841558</td>\n",
       "      <td>A841558</td>\n",
       "      <td>2021-09-03 11:04:00</td>\n",
       "      <td>2021-09-03T11:04:00.000</td>\n",
       "      <td>2021-06-30T00:00:00.000</td>\n",
       "      <td>Transfer</td>\n",
       "      <td>Partner</td>\n",
       "      <td>Dog</td>\n",
       "      <td>Intact Female</td>\n",
       "      <td>2 months</td>\n",
       "      <td>Australian Shepherd Mix</td>\n",
       "      <td>Blue Merle/White</td>\n",
       "    </tr>\n",
       "    <tr>\n",
       "      <th>4</th>\n",
       "      <td>A841797</td>\n",
       "      <td>NaN</td>\n",
       "      <td>2021-09-03 10:25:00</td>\n",
       "      <td>2021-09-03T10:25:00.000</td>\n",
       "      <td>2019-09-03T00:00:00.000</td>\n",
       "      <td>Euthanasia</td>\n",
       "      <td>Rabies Risk</td>\n",
       "      <td>Other</td>\n",
       "      <td>Unknown</td>\n",
       "      <td>NULL</td>\n",
       "      <td>Raccoon</td>\n",
       "      <td>Black/Gray</td>\n",
       "    </tr>\n",
       "    <tr>\n",
       "      <th>5</th>\n",
       "      <td>A841195</td>\n",
       "      <td>*Fedorov</td>\n",
       "      <td>2021-09-02 19:22:00</td>\n",
       "      <td>2021-09-02T19:22:00.000</td>\n",
       "      <td>2020-08-23T00:00:00.000</td>\n",
       "      <td>Adoption</td>\n",
       "      <td>NaN</td>\n",
       "      <td>Cat</td>\n",
       "      <td>Neutered Male</td>\n",
       "      <td>1 year</td>\n",
       "      <td>Domestic Shorthair</td>\n",
       "      <td>Black</td>\n",
       "    </tr>\n",
       "    <tr>\n",
       "      <th>6</th>\n",
       "      <td>A837783</td>\n",
       "      <td>June</td>\n",
       "      <td>2021-09-02 18:33:00</td>\n",
       "      <td>2021-09-02T18:33:00.000</td>\n",
       "      <td>2020-06-28T00:00:00.000</td>\n",
       "      <td>Adoption</td>\n",
       "      <td>NaN</td>\n",
       "      <td>Dog</td>\n",
       "      <td>Spayed Female</td>\n",
       "      <td>1 year</td>\n",
       "      <td>Anatol Shepherd Mix</td>\n",
       "      <td>Tan/Black</td>\n",
       "    </tr>\n",
       "    <tr>\n",
       "      <th>7</th>\n",
       "      <td>A721767</td>\n",
       "      <td>Scrappers</td>\n",
       "      <td>2021-09-02 18:32:00</td>\n",
       "      <td>2021-09-02T18:32:00.000</td>\n",
       "      <td>2009-03-04T00:00:00.000</td>\n",
       "      <td>Return to Owner</td>\n",
       "      <td>NaN</td>\n",
       "      <td>Dog</td>\n",
       "      <td>Neutered Male</td>\n",
       "      <td>12 years</td>\n",
       "      <td>Chihuahua Shorthair/Rat Terrier</td>\n",
       "      <td>Black</td>\n",
       "    </tr>\n",
       "    <tr>\n",
       "      <th>8</th>\n",
       "      <td>A841336</td>\n",
       "      <td>Papi</td>\n",
       "      <td>2021-09-02 18:12:00</td>\n",
       "      <td>2021-09-02T18:12:00.000</td>\n",
       "      <td>2018-08-26T00:00:00.000</td>\n",
       "      <td>Adoption</td>\n",
       "      <td>NaN</td>\n",
       "      <td>Dog</td>\n",
       "      <td>Neutered Male</td>\n",
       "      <td>3 years</td>\n",
       "      <td>Chihuahua Shorthair Mix</td>\n",
       "      <td>Brown/White</td>\n",
       "    </tr>\n",
       "    <tr>\n",
       "      <th>9</th>\n",
       "      <td>A841592</td>\n",
       "      <td>Marky</td>\n",
       "      <td>2021-09-02 17:43:00</td>\n",
       "      <td>2021-09-02T17:43:00.000</td>\n",
       "      <td>2020-11-30T00:00:00.000</td>\n",
       "      <td>Adoption</td>\n",
       "      <td>NaN</td>\n",
       "      <td>Dog</td>\n",
       "      <td>Neutered Male</td>\n",
       "      <td>9 months</td>\n",
       "      <td>Boxer/Pit Bull</td>\n",
       "      <td>White/Black</td>\n",
       "    </tr>\n",
       "  </tbody>\n",
       "</table>\n",
       "</div>"
      ],
      "text/plain": [
       "  animal_id       name            datetime                monthyear  \\\n",
       "0   A740038     *Pearl 2021-09-03 11:26:00  2021-09-03T11:26:00.000   \n",
       "1   A841793   73 Grams 2021-09-03 11:11:00  2021-09-03T11:11:00.000   \n",
       "2   A841589    A841589 2021-09-03 11:04:00  2021-09-03T11:04:00.000   \n",
       "3   A841558    A841558 2021-09-03 11:04:00  2021-09-03T11:04:00.000   \n",
       "4   A841797        NaN 2021-09-03 10:25:00  2021-09-03T10:25:00.000   \n",
       "5   A841195   *Fedorov 2021-09-02 19:22:00  2021-09-02T19:22:00.000   \n",
       "6   A837783       June 2021-09-02 18:33:00  2021-09-02T18:33:00.000   \n",
       "7   A721767  Scrappers 2021-09-02 18:32:00  2021-09-02T18:32:00.000   \n",
       "8   A841336       Papi 2021-09-02 18:12:00  2021-09-02T18:12:00.000   \n",
       "9   A841592      Marky 2021-09-02 17:43:00  2021-09-02T17:43:00.000   \n",
       "\n",
       "             date_of_birth     outcome_type outcome_subtype animal_type  \\\n",
       "0  2016-10-10T00:00:00.000         Transfer         Partner         Dog   \n",
       "1  2021-09-01T00:00:00.000         Transfer         Partner         Cat   \n",
       "2  2020-08-30T00:00:00.000         Transfer         Partner         Dog   \n",
       "3  2021-06-30T00:00:00.000         Transfer         Partner         Dog   \n",
       "4  2019-09-03T00:00:00.000       Euthanasia     Rabies Risk       Other   \n",
       "5  2020-08-23T00:00:00.000         Adoption             NaN         Cat   \n",
       "6  2020-06-28T00:00:00.000         Adoption             NaN         Dog   \n",
       "7  2009-03-04T00:00:00.000  Return to Owner             NaN         Dog   \n",
       "8  2018-08-26T00:00:00.000         Adoption             NaN         Dog   \n",
       "9  2020-11-30T00:00:00.000         Adoption             NaN         Dog   \n",
       "\n",
       "  sex_upon_outcome age_upon_outcome                            breed  \\\n",
       "0    Spayed Female          4 years           Dachshund Wirehair Mix   \n",
       "1    Intact Female           2 days               Domestic Shorthair   \n",
       "2      Intact Male           1 year          Australian Shepherd Mix   \n",
       "3    Intact Female         2 months          Australian Shepherd Mix   \n",
       "4          Unknown             NULL                          Raccoon   \n",
       "5    Neutered Male           1 year               Domestic Shorthair   \n",
       "6    Spayed Female           1 year              Anatol Shepherd Mix   \n",
       "7    Neutered Male         12 years  Chihuahua Shorthair/Rat Terrier   \n",
       "8    Neutered Male          3 years          Chihuahua Shorthair Mix   \n",
       "9    Neutered Male         9 months                   Boxer/Pit Bull   \n",
       "\n",
       "              color  \n",
       "0             Black  \n",
       "1       White/Black  \n",
       "2        Blue Merle  \n",
       "3  Blue Merle/White  \n",
       "4        Black/Gray  \n",
       "5             Black  \n",
       "6         Tan/Black  \n",
       "7             Black  \n",
       "8       Brown/White  \n",
       "9       White/Black  "
      ]
     },
     "execution_count": 4,
     "metadata": {},
     "output_type": "execute_result"
    }
   ],
   "source": [
    "animals.head(10)"
   ]
  },
  {
   "cell_type": "markdown",
   "metadata": {
    "hidden": true
   },
   "source": [
    "The `info()` and `describe()` provide a useful overview of the data."
   ]
  },
  {
   "cell_type": "code",
   "execution_count": 5,
   "metadata": {
    "hidden": true
   },
   "outputs": [
    {
     "name": "stdout",
     "output_type": "stream",
     "text": [
      "<class 'pandas.core.frame.DataFrame'>\n",
      "RangeIndex: 1000 entries, 0 to 999\n",
      "Data columns (total 12 columns):\n",
      " #   Column            Non-Null Count  Dtype         \n",
      "---  ------            --------------  -----         \n",
      " 0   animal_id         1000 non-null   object        \n",
      " 1   name              901 non-null    object        \n",
      " 2   datetime          1000 non-null   datetime64[ns]\n",
      " 3   monthyear         1000 non-null   object        \n",
      " 4   date_of_birth     1000 non-null   object        \n",
      " 5   outcome_type      999 non-null    object        \n",
      " 6   outcome_subtype   400 non-null    object        \n",
      " 7   animal_type       1000 non-null   object        \n",
      " 8   sex_upon_outcome  1000 non-null   object        \n",
      " 9   age_upon_outcome  1000 non-null   object        \n",
      " 10  breed             1000 non-null   object        \n",
      " 11  color             1000 non-null   object        \n",
      "dtypes: datetime64[ns](1), object(11)\n",
      "memory usage: 93.9+ KB\n"
     ]
    }
   ],
   "source": [
    "animals.info()"
   ]
  },
  {
   "cell_type": "markdown",
   "metadata": {
    "hidden": true
   },
   "source": [
    "> We can see we have some missing data. Specifically in the `outcome_type`, `outcome_subtype`, and `name` columns."
   ]
  },
  {
   "cell_type": "code",
   "execution_count": 6,
   "metadata": {
    "hidden": true
   },
   "outputs": [
    {
     "name": "stderr",
     "output_type": "stream",
     "text": [
      "<ipython-input-6-3885fd60d0c1>:1: FutureWarning: Treating datetime data as categorical rather than numeric in `.describe` is deprecated and will be removed in a future version of pandas. Specify `datetime_is_numeric=True` to silence this warning and adopt the future behavior now.\n",
      "  animals.describe()\n"
     ]
    },
    {
     "data": {
      "text/html": [
       "<div>\n",
       "<style scoped>\n",
       "    .dataframe tbody tr th:only-of-type {\n",
       "        vertical-align: middle;\n",
       "    }\n",
       "\n",
       "    .dataframe tbody tr th {\n",
       "        vertical-align: top;\n",
       "    }\n",
       "\n",
       "    .dataframe thead th {\n",
       "        text-align: right;\n",
       "    }\n",
       "</style>\n",
       "<table border=\"1\" class=\"dataframe\">\n",
       "  <thead>\n",
       "    <tr style=\"text-align: right;\">\n",
       "      <th></th>\n",
       "      <th>animal_id</th>\n",
       "      <th>name</th>\n",
       "      <th>datetime</th>\n",
       "      <th>monthyear</th>\n",
       "      <th>date_of_birth</th>\n",
       "      <th>outcome_type</th>\n",
       "      <th>outcome_subtype</th>\n",
       "      <th>animal_type</th>\n",
       "      <th>sex_upon_outcome</th>\n",
       "      <th>age_upon_outcome</th>\n",
       "      <th>breed</th>\n",
       "      <th>color</th>\n",
       "    </tr>\n",
       "  </thead>\n",
       "  <tbody>\n",
       "    <tr>\n",
       "      <th>count</th>\n",
       "      <td>1000</td>\n",
       "      <td>901</td>\n",
       "      <td>1000</td>\n",
       "      <td>1000</td>\n",
       "      <td>1000</td>\n",
       "      <td>999</td>\n",
       "      <td>400</td>\n",
       "      <td>1000</td>\n",
       "      <td>1000</td>\n",
       "      <td>1000</td>\n",
       "      <td>1000</td>\n",
       "      <td>1000</td>\n",
       "    </tr>\n",
       "    <tr>\n",
       "      <th>unique</th>\n",
       "      <td>982</td>\n",
       "      <td>816</td>\n",
       "      <td>879</td>\n",
       "      <td>879</td>\n",
       "      <td>449</td>\n",
       "      <td>7</td>\n",
       "      <td>12</td>\n",
       "      <td>5</td>\n",
       "      <td>5</td>\n",
       "      <td>40</td>\n",
       "      <td>166</td>\n",
       "      <td>104</td>\n",
       "    </tr>\n",
       "    <tr>\n",
       "      <th>top</th>\n",
       "      <td>A839380</td>\n",
       "      <td>Max</td>\n",
       "      <td>2021-08-27 14:15:00</td>\n",
       "      <td>2021-08-27T14:15:00.000</td>\n",
       "      <td>2021-06-07T00:00:00.000</td>\n",
       "      <td>Adoption</td>\n",
       "      <td>Partner</td>\n",
       "      <td>Cat</td>\n",
       "      <td>Neutered Male</td>\n",
       "      <td>2 months</td>\n",
       "      <td>Domestic Shorthair</td>\n",
       "      <td>Black</td>\n",
       "    </tr>\n",
       "    <tr>\n",
       "      <th>freq</th>\n",
       "      <td>2</td>\n",
       "      <td>7</td>\n",
       "      <td>5</td>\n",
       "      <td>5</td>\n",
       "      <td>19</td>\n",
       "      <td>661</td>\n",
       "      <td>190</td>\n",
       "      <td>494</td>\n",
       "      <td>373</td>\n",
       "      <td>180</td>\n",
       "      <td>318</td>\n",
       "      <td>115</td>\n",
       "    </tr>\n",
       "    <tr>\n",
       "      <th>first</th>\n",
       "      <td>NaN</td>\n",
       "      <td>NaN</td>\n",
       "      <td>2021-08-10 12:00:00</td>\n",
       "      <td>NaN</td>\n",
       "      <td>NaN</td>\n",
       "      <td>NaN</td>\n",
       "      <td>NaN</td>\n",
       "      <td>NaN</td>\n",
       "      <td>NaN</td>\n",
       "      <td>NaN</td>\n",
       "      <td>NaN</td>\n",
       "      <td>NaN</td>\n",
       "    </tr>\n",
       "    <tr>\n",
       "      <th>last</th>\n",
       "      <td>NaN</td>\n",
       "      <td>NaN</td>\n",
       "      <td>2021-09-03 11:26:00</td>\n",
       "      <td>NaN</td>\n",
       "      <td>NaN</td>\n",
       "      <td>NaN</td>\n",
       "      <td>NaN</td>\n",
       "      <td>NaN</td>\n",
       "      <td>NaN</td>\n",
       "      <td>NaN</td>\n",
       "      <td>NaN</td>\n",
       "      <td>NaN</td>\n",
       "    </tr>\n",
       "  </tbody>\n",
       "</table>\n",
       "</div>"
      ],
      "text/plain": [
       "       animal_id name             datetime                monthyear  \\\n",
       "count       1000  901                 1000                     1000   \n",
       "unique       982  816                  879                      879   \n",
       "top      A839380  Max  2021-08-27 14:15:00  2021-08-27T14:15:00.000   \n",
       "freq           2    7                    5                        5   \n",
       "first        NaN  NaN  2021-08-10 12:00:00                      NaN   \n",
       "last         NaN  NaN  2021-09-03 11:26:00                      NaN   \n",
       "\n",
       "                  date_of_birth outcome_type outcome_subtype animal_type  \\\n",
       "count                      1000          999             400        1000   \n",
       "unique                      449            7              12           5   \n",
       "top     2021-06-07T00:00:00.000     Adoption         Partner         Cat   \n",
       "freq                         19          661             190         494   \n",
       "first                       NaN          NaN             NaN         NaN   \n",
       "last                        NaN          NaN             NaN         NaN   \n",
       "\n",
       "       sex_upon_outcome age_upon_outcome               breed  color  \n",
       "count              1000             1000                1000   1000  \n",
       "unique                5               40                 166    104  \n",
       "top       Neutered Male         2 months  Domestic Shorthair  Black  \n",
       "freq                373              180                 318    115  \n",
       "first               NaN              NaN                 NaN    NaN  \n",
       "last                NaN              NaN                 NaN    NaN  "
      ]
     },
     "execution_count": 6,
     "metadata": {},
     "output_type": "execute_result"
    }
   ],
   "source": [
    "animals.describe()"
   ]
  },
  {
   "cell_type": "code",
   "execution_count": 7,
   "metadata": {
    "hidden": true
   },
   "outputs": [
    {
     "data": {
      "text/plain": [
       "Black                  115\n",
       "Black/White             81\n",
       "Brown Tabby             74\n",
       "Brown Tabby/White       36\n",
       "White                   34\n",
       "                      ... \n",
       "Cream                    1\n",
       "Fawn                     1\n",
       "Black/Fawn               1\n",
       "Blue Smoke               1\n",
       "Black Brindle/White      1\n",
       "Name: color, Length: 104, dtype: int64"
      ]
     },
     "execution_count": 7,
     "metadata": {},
     "output_type": "execute_result"
    }
   ],
   "source": [
    "# Use value counts to check a categorical feature's distribution\n",
    "\n",
    "animals['color'].value_counts()"
   ]
  },
  {
   "cell_type": "markdown",
   "metadata": {
    "hidden": true
   },
   "source": [
    "Now that we have a sense of the data available to us, we can focus in on some more specific questions to dig into. These questions may or may not be directly relevant to your goal (e.g. helping plan a new shelter), but will always help you gain a better understanding of your data.\n",
    "\n",
    "In your EDA notebooks, **markdown** will be especially helpful in tracking these questions and your methods of answering the questions."
   ]
  },
  {
   "cell_type": "markdown",
   "metadata": {
    "heading_collapsed": true,
    "hidden": true
   },
   "source": [
    "## Question 1: What animal types are in the dataset?"
   ]
  },
  {
   "cell_type": "markdown",
   "metadata": {
    "hidden": true
   },
   "source": [
    "We can then begin thinking about what parts of the DataFrame we need to answer the question."
   ]
  },
  {
   "cell_type": "markdown",
   "metadata": {
    "hidden": true
   },
   "source": [
    "* What features do we need?\n",
    " - \"animal_type\"\n",
    "* What type of logic and calculation do we perform?\n",
    " - Let's use `.value_counts()` to count the different animal types\n",
    "* What type of visualization would help us answer the question?\n",
    " - A bar chart would be good for this purpose"
   ]
  },
  {
   "cell_type": "code",
   "execution_count": 8,
   "metadata": {
    "hidden": true
   },
   "outputs": [
    {
     "data": {
      "text/plain": [
       "Cat          494\n",
       "Dog          456\n",
       "Other         45\n",
       "Livestock      3\n",
       "Bird           2\n",
       "Name: animal_type, dtype: int64"
      ]
     },
     "execution_count": 8,
     "metadata": {},
     "output_type": "execute_result"
    }
   ],
   "source": [
    "animals['animal_type'].value_counts()"
   ]
  },
  {
   "cell_type": "code",
   "execution_count": 9,
   "metadata": {
    "hidden": true
   },
   "outputs": [
    {
     "data": {
      "image/png": "[encoded data removed]",
      "text/plain": [
       "<Figure size 432x288 with 1 Axes>"
      ]
     },
     "metadata": {
      "needs_background": "light"
     },
     "output_type": "display_data"
    }
   ],
   "source": [
    "fig, ax = plt.subplots()\n",
    "\n",
    "animal_type_values = animals['animal_type'].value_counts()\n",
    "\n",
    "ax.barh(\n",
    "    y=animal_type_values.index,\n",
    "    width=animal_type_values.values\n",
    ")\n",
    "ax.set_xlabel('count');"
   ]
  },
  {
   "cell_type": "code",
   "execution_count": 11,
   "metadata": {
    "hidden": true
   },
   "outputs": [
    {
     "data": {
      "image/png": "[encoded data removed]",
      "text/plain": [
       "<Figure size 432x288 with 1 Axes>"
      ]
     },
     "metadata": {
      "needs_background": "light"
     },
     "output_type": "display_data"
    }
   ],
   "source": [
    "animals['animal_type'].hist();"
   ]
  },
  {
   "cell_type": "markdown",
   "metadata": {
    "hidden": true
   },
   "source": [
    "Questions lead to other questions. For the above example, the visualization raises the question..."
   ]
  },
  {
   "cell_type": "markdown",
   "metadata": {
    "heading_collapsed": true,
    "hidden": true
   },
   "source": [
    "## Question 2: What \"Other\" animals are in the dataset?"
   ]
  },
  {
   "cell_type": "markdown",
   "metadata": {
    "hidden": true
   },
   "source": [
    "To find out, we need to know whether the type of animal for \"Other\" is in our dataset - and if so, where to find it.   "
   ]
  },
  {
   "cell_type": "markdown",
   "metadata": {
    "hidden": true
   },
   "source": [
    "**Discussion**: Where might we look to find animal types within the Other category?\n",
    "\n",
    "<details>\n",
    "    <summary>\n",
    "        Answer\n",
    "    </summary>\n",
    "        The breed column.\n",
    "</details>"
   ]
  },
  {
   "cell_type": "code",
   "execution_count": 12,
   "metadata": {
    "hidden": true
   },
   "outputs": [
    {
     "data": {
      "text/html": [
       "<div>\n",
       "<style scoped>\n",
       "    .dataframe tbody tr th:only-of-type {\n",
       "        vertical-align: middle;\n",
       "    }\n",
       "\n",
       "    .dataframe tbody tr th {\n",
       "        vertical-align: top;\n",
       "    }\n",
       "\n",
       "    .dataframe thead th {\n",
       "        text-align: right;\n",
       "    }\n",
       "</style>\n",
       "<table border=\"1\" class=\"dataframe\">\n",
       "  <thead>\n",
       "    <tr style=\"text-align: right;\">\n",
       "      <th></th>\n",
       "      <th>animal_id</th>\n",
       "      <th>name</th>\n",
       "      <th>datetime</th>\n",
       "      <th>monthyear</th>\n",
       "      <th>date_of_birth</th>\n",
       "      <th>outcome_type</th>\n",
       "      <th>outcome_subtype</th>\n",
       "      <th>animal_type</th>\n",
       "      <th>sex_upon_outcome</th>\n",
       "      <th>age_upon_outcome</th>\n",
       "      <th>breed</th>\n",
       "      <th>color</th>\n",
       "    </tr>\n",
       "  </thead>\n",
       "  <tbody>\n",
       "    <tr>\n",
       "      <th>0</th>\n",
       "      <td>A740038</td>\n",
       "      <td>*Pearl</td>\n",
       "      <td>2021-09-03 11:26:00</td>\n",
       "      <td>2021-09-03T11:26:00.000</td>\n",
       "      <td>2016-10-10T00:00:00.000</td>\n",
       "      <td>Transfer</td>\n",
       "      <td>Partner</td>\n",
       "      <td>Dog</td>\n",
       "      <td>Spayed Female</td>\n",
       "      <td>4 years</td>\n",
       "      <td>Dachshund Wirehair Mix</td>\n",
       "      <td>Black</td>\n",
       "    </tr>\n",
       "    <tr>\n",
       "      <th>1</th>\n",
       "      <td>A841793</td>\n",
       "      <td>73 Grams</td>\n",
       "      <td>2021-09-03 11:11:00</td>\n",
       "      <td>2021-09-03T11:11:00.000</td>\n",
       "      <td>2021-09-01T00:00:00.000</td>\n",
       "      <td>Transfer</td>\n",
       "      <td>Partner</td>\n",
       "      <td>Cat</td>\n",
       "      <td>Intact Female</td>\n",
       "      <td>2 days</td>\n",
       "      <td>Domestic Shorthair</td>\n",
       "      <td>White/Black</td>\n",
       "    </tr>\n",
       "    <tr>\n",
       "      <th>2</th>\n",
       "      <td>A841589</td>\n",
       "      <td>A841589</td>\n",
       "      <td>2021-09-03 11:04:00</td>\n",
       "      <td>2021-09-03T11:04:00.000</td>\n",
       "      <td>2020-08-30T00:00:00.000</td>\n",
       "      <td>Transfer</td>\n",
       "      <td>Partner</td>\n",
       "      <td>Dog</td>\n",
       "      <td>Intact Male</td>\n",
       "      <td>1 year</td>\n",
       "      <td>Australian Shepherd Mix</td>\n",
       "      <td>Blue Merle</td>\n",
       "    </tr>\n",
       "    <tr>\n",
       "      <th>3</th>\n",
       "      <td>A841558</td>\n",
       "      <td>A841558</td>\n",
       "      <td>2021-09-03 11:04:00</td>\n",
       "      <td>2021-09-03T11:04:00.000</td>\n",
       "      <td>2021-06-30T00:00:00.000</td>\n",
       "      <td>Transfer</td>\n",
       "      <td>Partner</td>\n",
       "      <td>Dog</td>\n",
       "      <td>Intact Female</td>\n",
       "      <td>2 months</td>\n",
       "      <td>Australian Shepherd Mix</td>\n",
       "      <td>Blue Merle/White</td>\n",
       "    </tr>\n",
       "    <tr>\n",
       "      <th>4</th>\n",
       "      <td>A841797</td>\n",
       "      <td>NaN</td>\n",
       "      <td>2021-09-03 10:25:00</td>\n",
       "      <td>2021-09-03T10:25:00.000</td>\n",
       "      <td>2019-09-03T00:00:00.000</td>\n",
       "      <td>Euthanasia</td>\n",
       "      <td>Rabies Risk</td>\n",
       "      <td>Other</td>\n",
       "      <td>Unknown</td>\n",
       "      <td>NULL</td>\n",
       "      <td>Raccoon</td>\n",
       "      <td>Black/Gray</td>\n",
       "    </tr>\n",
       "  </tbody>\n",
       "</table>\n",
       "</div>"
      ],
      "text/plain": [
       "  animal_id      name            datetime                monthyear  \\\n",
       "0   A740038    *Pearl 2021-09-03 11:26:00  2021-09-03T11:26:00.000   \n",
       "1   A841793  73 Grams 2021-09-03 11:11:00  2021-09-03T11:11:00.000   \n",
       "2   A841589   A841589 2021-09-03 11:04:00  2021-09-03T11:04:00.000   \n",
       "3   A841558   A841558 2021-09-03 11:04:00  2021-09-03T11:04:00.000   \n",
       "4   A841797       NaN 2021-09-03 10:25:00  2021-09-03T10:25:00.000   \n",
       "\n",
       "             date_of_birth outcome_type outcome_subtype animal_type  \\\n",
       "0  2016-10-10T00:00:00.000     Transfer         Partner         Dog   \n",
       "1  2021-09-01T00:00:00.000     Transfer         Partner         Cat   \n",
       "2  2020-08-30T00:00:00.000     Transfer         Partner         Dog   \n",
       "3  2021-06-30T00:00:00.000     Transfer         Partner         Dog   \n",
       "4  2019-09-03T00:00:00.000   Euthanasia     Rabies Risk       Other   \n",
       "\n",
       "  sex_upon_outcome age_upon_outcome                    breed             color  \n",
       "0    Spayed Female          4 years   Dachshund Wirehair Mix             Black  \n",
       "1    Intact Female           2 days       Domestic Shorthair       White/Black  \n",
       "2      Intact Male           1 year  Australian Shepherd Mix        Blue Merle  \n",
       "3    Intact Female         2 months  Australian Shepherd Mix  Blue Merle/White  \n",
       "4          Unknown             NULL                  Raccoon        Black/Gray  "
      ]
     },
     "execution_count": 12,
     "metadata": {},
     "output_type": "execute_result"
    }
   ],
   "source": [
    "# Your exploration here\n",
    "animals.head()"
   ]
  },
  {
   "cell_type": "markdown",
   "metadata": {
    "hidden": true
   },
   "source": [
    "Let's use that column to answer our question."
   ]
  },
  {
   "cell_type": "code",
   "execution_count": 13,
   "metadata": {
    "hidden": true
   },
   "outputs": [
    {
     "data": {
      "text/plain": [
       "Rabbit Sh          22\n",
       "Bat                 8\n",
       "Mouse               4\n",
       "Lop-Holland         2\n",
       "Guinea Pig          2\n",
       "Raccoon             2\n",
       "Netherlnd Dwarf     1\n",
       "Skunk               1\n",
       "Californian         1\n",
       "Fox                 1\n",
       "Rex Mix             1\n",
       "Name: breed, dtype: int64"
      ]
     },
     "execution_count": 13,
     "metadata": {},
     "output_type": "execute_result"
    }
   ],
   "source": [
    "mask_other_animals = animals['animal_type'] == 'Other'\n",
    "animals[mask_other_animals]['breed'].value_counts()"
   ]
  },
  {
   "cell_type": "markdown",
   "metadata": {
    "heading_collapsed": true,
    "hidden": true
   },
   "source": [
    "## Question 3: How old are the animals in our dataset?"
   ]
  },
  {
   "cell_type": "markdown",
   "metadata": {
    "hidden": true
   },
   "source": [
    "Let's try to answer this with the `age_upon_outcome` variable to learn some new `pandas` tools."
   ]
  },
  {
   "cell_type": "code",
   "execution_count": 14,
   "metadata": {
    "hidden": true
   },
   "outputs": [
    {
     "data": {
      "text/plain": [
       "2 months     180\n",
       "2 years      161\n",
       "1 year       134\n",
       "3 months      96\n",
       "4 months      49\n",
       "3 years       31\n",
       "1 month       29\n",
       "5 months      28\n",
       "8 years       22\n",
       "1 weeks       21\n",
       "6 months      21\n",
       "5 years       20\n",
       "4 years       19\n",
       "2 weeks       18\n",
       "3 weeks       18\n",
       "8 months      16\n",
       "7 months      11\n",
       "6 years       11\n",
       "1 week        11\n",
       "9 months      11\n",
       "1 day         10\n",
       "10 years      10\n",
       "3 days         9\n",
       "7 years        9\n",
       "11 years       8\n",
       "10 months      7\n",
       "11 months      7\n",
       "NULL           5\n",
       "9 years        5\n",
       "14 years       4\n",
       "12 years       4\n",
       "4 weeks        3\n",
       "6 days         3\n",
       "0 years        2\n",
       "13 years       2\n",
       "16 years       1\n",
       "17 years       1\n",
       "18 years       1\n",
       "15 years       1\n",
       "2 days         1\n",
       "Name: age_upon_outcome, dtype: int64"
      ]
     },
     "execution_count": 14,
     "metadata": {},
     "output_type": "execute_result"
    }
   ],
   "source": [
    "animals['age_upon_outcome'].value_counts()"
   ]
  },
  {
   "cell_type": "markdown",
   "metadata": {
    "heading_collapsed": true,
    "hidden": true
   },
   "source": [
    "### `Series.map()`"
   ]
  },
  {
   "cell_type": "markdown",
   "metadata": {
    "hidden": true
   },
   "source": [
    "The `.map()` method applies a transformation to every entry in the Series. This transformation  \"maps\" each value from the Series to a new value. A transformation can be defined by a function, Series, or dictionary - usually we'll use functions."
   ]
  },
  {
   "cell_type": "markdown",
   "metadata": {
    "hidden": true
   },
   "source": [
    "The `.apply()` method is similar to the `.map()` method for Series, but can only use functions. It has more powerful uses when working with DataFrames."
   ]
  },
  {
   "cell_type": "code",
   "execution_count": 15,
   "metadata": {
    "hidden": true
   },
   "outputs": [],
   "source": [
    "def one_year(age):\n",
    "    if age == '1 year':\n",
    "        return '1 years'\n",
    "    else:\n",
    "        return age"
   ]
  },
  {
   "cell_type": "code",
   "execution_count": 16,
   "metadata": {
    "hidden": true,
    "scrolled": true
   },
   "outputs": [
    {
     "data": {
      "text/plain": [
       "2 months     180\n",
       "2 years      161\n",
       "1 years      134\n",
       "3 months      96\n",
       "4 months      49\n",
       "3 years       31\n",
       "1 month       29\n",
       "5 months      28\n",
       "8 years       22\n",
       "6 months      21\n",
       "1 weeks       21\n",
       "5 years       20\n",
       "4 years       19\n",
       "3 weeks       18\n",
       "2 weeks       18\n",
       "8 months      16\n",
       "6 years       11\n",
       "7 months      11\n",
       "9 months      11\n",
       "1 week        11\n",
       "10 years      10\n",
       "1 day         10\n",
       "3 days         9\n",
       "7 years        9\n",
       "11 years       8\n",
       "11 months      7\n",
       "10 months      7\n",
       "9 years        5\n",
       "NULL           5\n",
       "14 years       4\n",
       "12 years       4\n",
       "6 days         3\n",
       "4 weeks        3\n",
       "13 years       2\n",
       "0 years        2\n",
       "17 years       1\n",
       "15 years       1\n",
       "18 years       1\n",
       "16 years       1\n",
       "2 days         1\n",
       "Name: new_age1, dtype: int64"
      ]
     },
     "execution_count": 16,
     "metadata": {},
     "output_type": "execute_result"
    }
   ],
   "source": [
    "animals['new_age1'] = animals['age_upon_outcome'].map(one_year)\n",
    "animals['new_age1'].value_counts()"
   ]
  },
  {
   "cell_type": "markdown",
   "metadata": {
    "heading_collapsed": true,
    "hidden": true
   },
   "source": [
    "### More Sophisticated Mapping"
   ]
  },
  {
   "cell_type": "markdown",
   "metadata": {
    "hidden": true
   },
   "source": [
    "Let's use `.map()` to turn sex_upon_outcome into a category with three values (called **ternary**): male, female, or unknown. "
   ]
  },
  {
   "cell_type": "markdown",
   "metadata": {
    "hidden": true
   },
   "source": [
    "First, explore the unique values:"
   ]
  },
  {
   "cell_type": "code",
   "execution_count": 17,
   "metadata": {
    "hidden": true
   },
   "outputs": [
    {
     "data": {
      "text/plain": [
       "array(['Spayed Female', 'Intact Female', 'Intact Male', 'Unknown',\n",
       "       'Neutered Male'], dtype=object)"
      ]
     },
     "execution_count": 17,
     "metadata": {},
     "output_type": "execute_result"
    }
   ],
   "source": [
    "animals['sex_upon_outcome'].unique()"
   ]
  },
  {
   "cell_type": "code",
   "execution_count": 18,
   "metadata": {
    "hidden": true
   },
   "outputs": [],
   "source": [
    "def sex_mapper(status):\n",
    "    if status in ['Neutered Male', 'Intact Male']:\n",
    "        return 'Male'\n",
    "    elif status in ['Spayed Female', 'Intact Female']:\n",
    "        return 'Female'\n",
    "    else:\n",
    "        return 'Unknown'"
   ]
  },
  {
   "cell_type": "code",
   "execution_count": 19,
   "metadata": {
    "hidden": true
   },
   "outputs": [
    {
     "data": {
      "text/html": [
       "<div>\n",
       "<style scoped>\n",
       "    .dataframe tbody tr th:only-of-type {\n",
       "        vertical-align: middle;\n",
       "    }\n",
       "\n",
       "    .dataframe tbody tr th {\n",
       "        vertical-align: top;\n",
       "    }\n",
       "\n",
       "    .dataframe thead th {\n",
       "        text-align: right;\n",
       "    }\n",
       "</style>\n",
       "<table border=\"1\" class=\"dataframe\">\n",
       "  <thead>\n",
       "    <tr style=\"text-align: right;\">\n",
       "      <th></th>\n",
       "      <th>sex_upon_outcome</th>\n",
       "      <th>new_sex1</th>\n",
       "    </tr>\n",
       "  </thead>\n",
       "  <tbody>\n",
       "    <tr>\n",
       "      <th>0</th>\n",
       "      <td>Spayed Female</td>\n",
       "      <td>Female</td>\n",
       "    </tr>\n",
       "    <tr>\n",
       "      <th>1</th>\n",
       "      <td>Intact Female</td>\n",
       "      <td>Female</td>\n",
       "    </tr>\n",
       "    <tr>\n",
       "      <th>2</th>\n",
       "      <td>Intact Male</td>\n",
       "      <td>Male</td>\n",
       "    </tr>\n",
       "    <tr>\n",
       "      <th>3</th>\n",
       "      <td>Intact Female</td>\n",
       "      <td>Female</td>\n",
       "    </tr>\n",
       "    <tr>\n",
       "      <th>4</th>\n",
       "      <td>Unknown</td>\n",
       "      <td>Unknown</td>\n",
       "    </tr>\n",
       "    <tr>\n",
       "      <th>...</th>\n",
       "      <td>...</td>\n",
       "      <td>...</td>\n",
       "    </tr>\n",
       "    <tr>\n",
       "      <th>995</th>\n",
       "      <td>Neutered Male</td>\n",
       "      <td>Male</td>\n",
       "    </tr>\n",
       "    <tr>\n",
       "      <th>996</th>\n",
       "      <td>Intact Female</td>\n",
       "      <td>Female</td>\n",
       "    </tr>\n",
       "    <tr>\n",
       "      <th>997</th>\n",
       "      <td>Spayed Female</td>\n",
       "      <td>Female</td>\n",
       "    </tr>\n",
       "    <tr>\n",
       "      <th>998</th>\n",
       "      <td>Neutered Male</td>\n",
       "      <td>Male</td>\n",
       "    </tr>\n",
       "    <tr>\n",
       "      <th>999</th>\n",
       "      <td>Spayed Female</td>\n",
       "      <td>Female</td>\n",
       "    </tr>\n",
       "  </tbody>\n",
       "</table>\n",
       "<p>1000 rows × 2 columns</p>\n",
       "</div>"
      ],
      "text/plain": [
       "    sex_upon_outcome new_sex1\n",
       "0      Spayed Female   Female\n",
       "1      Intact Female   Female\n",
       "2        Intact Male     Male\n",
       "3      Intact Female   Female\n",
       "4            Unknown  Unknown\n",
       "..               ...      ...\n",
       "995    Neutered Male     Male\n",
       "996    Intact Female   Female\n",
       "997    Spayed Female   Female\n",
       "998    Neutered Male     Male\n",
       "999    Spayed Female   Female\n",
       "\n",
       "[1000 rows x 2 columns]"
      ]
     },
     "execution_count": 19,
     "metadata": {},
     "output_type": "execute_result"
    }
   ],
   "source": [
    "animals['new_sex1'] = animals['sex_upon_outcome'].map(sex_mapper)\n",
    "animals.loc[:, ['sex_upon_outcome', 'new_sex1']]"
   ]
  },
  {
   "cell_type": "markdown",
   "metadata": {
    "heading_collapsed": true,
    "hidden": true
   },
   "source": [
    "### Lambda Functions"
   ]
  },
  {
   "cell_type": "markdown",
   "metadata": {
    "hidden": true
   },
   "source": [
    "Simple functions can be defined just when you need them, when you would call the function. These are called **lambda functions**. These functions are **anonymous** and disappear immediately after use."
   ]
  },
  {
   "cell_type": "markdown",
   "metadata": {
    "hidden": true
   },
   "source": [
    "Let's use a lambda function to get rid of 'Other' in the \"animal_type' column."
   ]
  },
  {
   "cell_type": "code",
   "execution_count": 20,
   "metadata": {
    "hidden": true
   },
   "outputs": [
    {
     "data": {
      "text/html": [
       "<div>\n",
       "<style scoped>\n",
       "    .dataframe tbody tr th:only-of-type {\n",
       "        vertical-align: middle;\n",
       "    }\n",
       "\n",
       "    .dataframe tbody tr th {\n",
       "        vertical-align: top;\n",
       "    }\n",
       "\n",
       "    .dataframe thead th {\n",
       "        text-align: right;\n",
       "    }\n",
       "</style>\n",
       "<table border=\"1\" class=\"dataframe\">\n",
       "  <thead>\n",
       "    <tr style=\"text-align: right;\">\n",
       "      <th></th>\n",
       "      <th>animal_id</th>\n",
       "      <th>name</th>\n",
       "      <th>datetime</th>\n",
       "      <th>monthyear</th>\n",
       "      <th>date_of_birth</th>\n",
       "      <th>outcome_type</th>\n",
       "      <th>outcome_subtype</th>\n",
       "      <th>animal_type</th>\n",
       "      <th>sex_upon_outcome</th>\n",
       "      <th>age_upon_outcome</th>\n",
       "      <th>breed</th>\n",
       "      <th>color</th>\n",
       "      <th>new_age1</th>\n",
       "      <th>new_sex1</th>\n",
       "    </tr>\n",
       "  </thead>\n",
       "  <tbody>\n",
       "    <tr>\n",
       "      <th>4</th>\n",
       "      <td>A841797</td>\n",
       "      <td>NaN</td>\n",
       "      <td>2021-09-03 10:25:00</td>\n",
       "      <td>2021-09-03T10:25:00.000</td>\n",
       "      <td>2019-09-03T00:00:00.000</td>\n",
       "      <td>Euthanasia</td>\n",
       "      <td>Rabies Risk</td>\n",
       "      <td>Other</td>\n",
       "      <td>Unknown</td>\n",
       "      <td>NULL</td>\n",
       "      <td>Raccoon</td>\n",
       "      <td>Black/Gray</td>\n",
       "      <td>NULL</td>\n",
       "      <td>Unknown</td>\n",
       "    </tr>\n",
       "    <tr>\n",
       "      <th>31</th>\n",
       "      <td>A841728</td>\n",
       "      <td>NaN</td>\n",
       "      <td>2021-09-02 10:22:00</td>\n",
       "      <td>2021-09-02T10:22:00.000</td>\n",
       "      <td>2019-09-01T00:00:00.000</td>\n",
       "      <td>Euthanasia</td>\n",
       "      <td>Rabies Risk</td>\n",
       "      <td>Other</td>\n",
       "      <td>Unknown</td>\n",
       "      <td>2 years</td>\n",
       "      <td>Bat</td>\n",
       "      <td>Brown</td>\n",
       "      <td>2 years</td>\n",
       "      <td>Unknown</td>\n",
       "    </tr>\n",
       "    <tr>\n",
       "      <th>53</th>\n",
       "      <td>A840652</td>\n",
       "      <td>*Chickpea</td>\n",
       "      <td>2021-09-01 11:16:00</td>\n",
       "      <td>2021-09-01T11:16:00.000</td>\n",
       "      <td>2020-08-11T00:00:00.000</td>\n",
       "      <td>Transfer</td>\n",
       "      <td>Partner</td>\n",
       "      <td>Other</td>\n",
       "      <td>Intact Female</td>\n",
       "      <td>1 year</td>\n",
       "      <td>Rabbit Sh</td>\n",
       "      <td>Brown</td>\n",
       "      <td>1 years</td>\n",
       "      <td>Female</td>\n",
       "    </tr>\n",
       "    <tr>\n",
       "      <th>54</th>\n",
       "      <td>A840648</td>\n",
       "      <td>*Carob</td>\n",
       "      <td>2021-09-01 11:16:00</td>\n",
       "      <td>2021-09-01T11:16:00.000</td>\n",
       "      <td>2020-08-11T00:00:00.000</td>\n",
       "      <td>Transfer</td>\n",
       "      <td>Partner</td>\n",
       "      <td>Other</td>\n",
       "      <td>Intact Male</td>\n",
       "      <td>1 year</td>\n",
       "      <td>Rabbit Sh</td>\n",
       "      <td>Gray</td>\n",
       "      <td>1 years</td>\n",
       "      <td>Male</td>\n",
       "    </tr>\n",
       "    <tr>\n",
       "      <th>55</th>\n",
       "      <td>A840647</td>\n",
       "      <td>*Bigwig</td>\n",
       "      <td>2021-09-01 11:15:00</td>\n",
       "      <td>2021-09-01T11:15:00.000</td>\n",
       "      <td>2020-08-11T00:00:00.000</td>\n",
       "      <td>Transfer</td>\n",
       "      <td>Partner</td>\n",
       "      <td>Other</td>\n",
       "      <td>Intact Male</td>\n",
       "      <td>1 year</td>\n",
       "      <td>Rabbit Sh</td>\n",
       "      <td>Gray</td>\n",
       "      <td>1 years</td>\n",
       "      <td>Male</td>\n",
       "    </tr>\n",
       "    <tr>\n",
       "      <th>74</th>\n",
       "      <td>A840650</td>\n",
       "      <td>*Sprout</td>\n",
       "      <td>2021-08-31 16:07:00</td>\n",
       "      <td>2021-08-31T16:07:00.000</td>\n",
       "      <td>2020-08-11T00:00:00.000</td>\n",
       "      <td>Adoption</td>\n",
       "      <td>NaN</td>\n",
       "      <td>Other</td>\n",
       "      <td>Intact Female</td>\n",
       "      <td>1 year</td>\n",
       "      <td>Rabbit Sh</td>\n",
       "      <td>Gray/White</td>\n",
       "      <td>1 years</td>\n",
       "      <td>Female</td>\n",
       "    </tr>\n",
       "    <tr>\n",
       "      <th>75</th>\n",
       "      <td>A840649</td>\n",
       "      <td>*Clover</td>\n",
       "      <td>2021-08-31 16:06:00</td>\n",
       "      <td>2021-08-31T16:06:00.000</td>\n",
       "      <td>2020-08-11T00:00:00.000</td>\n",
       "      <td>Adoption</td>\n",
       "      <td>NaN</td>\n",
       "      <td>Other</td>\n",
       "      <td>Intact Female</td>\n",
       "      <td>1 year</td>\n",
       "      <td>Rabbit Sh</td>\n",
       "      <td>Gray</td>\n",
       "      <td>1 years</td>\n",
       "      <td>Female</td>\n",
       "    </tr>\n",
       "    <tr>\n",
       "      <th>170</th>\n",
       "      <td>A841444</td>\n",
       "      <td>NaN</td>\n",
       "      <td>2021-08-29 11:21:00</td>\n",
       "      <td>2021-08-29T11:21:00.000</td>\n",
       "      <td>2021-06-27T00:00:00.000</td>\n",
       "      <td>Euthanasia</td>\n",
       "      <td>Rabies Risk</td>\n",
       "      <td>Other</td>\n",
       "      <td>Unknown</td>\n",
       "      <td>2 months</td>\n",
       "      <td>Fox</td>\n",
       "      <td>Gray</td>\n",
       "      <td>2 months</td>\n",
       "      <td>Unknown</td>\n",
       "    </tr>\n",
       "    <tr>\n",
       "      <th>171</th>\n",
       "      <td>A841412</td>\n",
       "      <td>NaN</td>\n",
       "      <td>2021-08-29 11:11:00</td>\n",
       "      <td>2021-08-29T11:11:00.000</td>\n",
       "      <td>2019-08-27T00:00:00.000</td>\n",
       "      <td>Euthanasia</td>\n",
       "      <td>Rabies Risk</td>\n",
       "      <td>Other</td>\n",
       "      <td>Unknown</td>\n",
       "      <td>2 years</td>\n",
       "      <td>Raccoon</td>\n",
       "      <td>Gray/Black</td>\n",
       "      <td>2 years</td>\n",
       "      <td>Unknown</td>\n",
       "    </tr>\n",
       "    <tr>\n",
       "      <th>184</th>\n",
       "      <td>A840654</td>\n",
       "      <td>*Pinto Bean</td>\n",
       "      <td>2021-08-28 16:30:00</td>\n",
       "      <td>2021-08-28T16:30:00.000</td>\n",
       "      <td>2020-08-11T00:00:00.000</td>\n",
       "      <td>Adoption</td>\n",
       "      <td>NaN</td>\n",
       "      <td>Other</td>\n",
       "      <td>Intact Male</td>\n",
       "      <td>1 year</td>\n",
       "      <td>Rabbit Sh</td>\n",
       "      <td>Brown</td>\n",
       "      <td>1 years</td>\n",
       "      <td>Male</td>\n",
       "    </tr>\n",
       "    <tr>\n",
       "      <th>227</th>\n",
       "      <td>A841212</td>\n",
       "      <td>NaN</td>\n",
       "      <td>2021-08-27 19:18:00</td>\n",
       "      <td>2021-08-27T19:18:00.000</td>\n",
       "      <td>2019-08-23T00:00:00.000</td>\n",
       "      <td>Euthanasia</td>\n",
       "      <td>Rabies Risk</td>\n",
       "      <td>Other</td>\n",
       "      <td>Unknown</td>\n",
       "      <td>2 years</td>\n",
       "      <td>Bat</td>\n",
       "      <td>Brown/Brown</td>\n",
       "      <td>2 years</td>\n",
       "      <td>Unknown</td>\n",
       "    </tr>\n",
       "    <tr>\n",
       "      <th>256</th>\n",
       "      <td>A840515</td>\n",
       "      <td>NaN</td>\n",
       "      <td>2021-08-27 13:57:00</td>\n",
       "      <td>2021-08-27T13:57:00.000</td>\n",
       "      <td>2021-08-03T00:00:00.000</td>\n",
       "      <td>Adoption</td>\n",
       "      <td>Foster</td>\n",
       "      <td>Other</td>\n",
       "      <td>Intact Female</td>\n",
       "      <td>3 weeks</td>\n",
       "      <td>Mouse</td>\n",
       "      <td>Tan/White</td>\n",
       "      <td>3 weeks</td>\n",
       "      <td>Female</td>\n",
       "    </tr>\n",
       "    <tr>\n",
       "      <th>257</th>\n",
       "      <td>A840516</td>\n",
       "      <td>NaN</td>\n",
       "      <td>2021-08-27 13:57:00</td>\n",
       "      <td>2021-08-27T13:57:00.000</td>\n",
       "      <td>2021-08-03T00:00:00.000</td>\n",
       "      <td>Adoption</td>\n",
       "      <td>Foster</td>\n",
       "      <td>Other</td>\n",
       "      <td>Intact Female</td>\n",
       "      <td>3 weeks</td>\n",
       "      <td>Mouse</td>\n",
       "      <td>Tan</td>\n",
       "      <td>3 weeks</td>\n",
       "      <td>Female</td>\n",
       "    </tr>\n",
       "    <tr>\n",
       "      <th>258</th>\n",
       "      <td>A840513</td>\n",
       "      <td>NaN</td>\n",
       "      <td>2021-08-27 13:56:00</td>\n",
       "      <td>2021-08-27T13:56:00.000</td>\n",
       "      <td>2021-08-03T00:00:00.000</td>\n",
       "      <td>Adoption</td>\n",
       "      <td>Foster</td>\n",
       "      <td>Other</td>\n",
       "      <td>Intact Female</td>\n",
       "      <td>3 weeks</td>\n",
       "      <td>Mouse</td>\n",
       "      <td>White</td>\n",
       "      <td>3 weeks</td>\n",
       "      <td>Female</td>\n",
       "    </tr>\n",
       "    <tr>\n",
       "      <th>259</th>\n",
       "      <td>A840509</td>\n",
       "      <td>*Bruce Springsteen</td>\n",
       "      <td>2021-08-27 13:47:00</td>\n",
       "      <td>2021-08-27T13:47:00.000</td>\n",
       "      <td>2021-03-09T00:00:00.000</td>\n",
       "      <td>Adoption</td>\n",
       "      <td>Foster</td>\n",
       "      <td>Other</td>\n",
       "      <td>Intact Male</td>\n",
       "      <td>5 months</td>\n",
       "      <td>Mouse</td>\n",
       "      <td>Brown</td>\n",
       "      <td>5 months</td>\n",
       "      <td>Male</td>\n",
       "    </tr>\n",
       "    <tr>\n",
       "      <th>313</th>\n",
       "      <td>A828074</td>\n",
       "      <td>*Buzzbee</td>\n",
       "      <td>2021-08-26 12:01:00</td>\n",
       "      <td>2021-08-26T12:01:00.000</td>\n",
       "      <td>2020-01-06T00:00:00.000</td>\n",
       "      <td>Adoption</td>\n",
       "      <td>Foster</td>\n",
       "      <td>Other</td>\n",
       "      <td>Neutered Male</td>\n",
       "      <td>1 year</td>\n",
       "      <td>Rabbit Sh</td>\n",
       "      <td>White/Gray</td>\n",
       "      <td>1 years</td>\n",
       "      <td>Male</td>\n",
       "    </tr>\n",
       "    <tr>\n",
       "      <th>351</th>\n",
       "      <td>A841275</td>\n",
       "      <td>NaN</td>\n",
       "      <td>2021-08-25 09:43:00</td>\n",
       "      <td>2021-08-25T09:43:00.000</td>\n",
       "      <td>2019-08-24T00:00:00.000</td>\n",
       "      <td>Disposal</td>\n",
       "      <td>NaN</td>\n",
       "      <td>Other</td>\n",
       "      <td>Unknown</td>\n",
       "      <td>2 years</td>\n",
       "      <td>Bat</td>\n",
       "      <td>Brown/Brown</td>\n",
       "      <td>2 years</td>\n",
       "      <td>Unknown</td>\n",
       "    </tr>\n",
       "    <tr>\n",
       "      <th>456</th>\n",
       "      <td>A841201</td>\n",
       "      <td>NaN</td>\n",
       "      <td>2021-08-23 08:38:00</td>\n",
       "      <td>2021-08-23T08:38:00.000</td>\n",
       "      <td>2020-08-23T00:00:00.000</td>\n",
       "      <td>Euthanasia</td>\n",
       "      <td>Rabies Risk</td>\n",
       "      <td>Other</td>\n",
       "      <td>Unknown</td>\n",
       "      <td>1 year</td>\n",
       "      <td>Bat</td>\n",
       "      <td>Brown</td>\n",
       "      <td>1 years</td>\n",
       "      <td>Unknown</td>\n",
       "    </tr>\n",
       "    <tr>\n",
       "      <th>457</th>\n",
       "      <td>A841070</td>\n",
       "      <td>NaN</td>\n",
       "      <td>2021-08-23 00:00:00</td>\n",
       "      <td>2021-08-23T00:00:00.000</td>\n",
       "      <td>2020-08-19T00:00:00.000</td>\n",
       "      <td>Euthanasia</td>\n",
       "      <td>Rabies Risk</td>\n",
       "      <td>Other</td>\n",
       "      <td>Unknown</td>\n",
       "      <td>1 year</td>\n",
       "      <td>Bat</td>\n",
       "      <td>Brown</td>\n",
       "      <td>1 years</td>\n",
       "      <td>Unknown</td>\n",
       "    </tr>\n",
       "    <tr>\n",
       "      <th>494</th>\n",
       "      <td>A840814</td>\n",
       "      <td>*Tiny Bunny</td>\n",
       "      <td>2021-08-22 14:20:00</td>\n",
       "      <td>2021-08-22T14:20:00.000</td>\n",
       "      <td>2018-08-19T00:00:00.000</td>\n",
       "      <td>Adoption</td>\n",
       "      <td>NaN</td>\n",
       "      <td>Other</td>\n",
       "      <td>Intact Male</td>\n",
       "      <td>3 years</td>\n",
       "      <td>Netherlnd Dwarf</td>\n",
       "      <td>Black/White</td>\n",
       "      <td>3 years</td>\n",
       "      <td>Male</td>\n",
       "    </tr>\n",
       "    <tr>\n",
       "      <th>553</th>\n",
       "      <td>A841096</td>\n",
       "      <td>NaN</td>\n",
       "      <td>2021-08-20 13:36:00</td>\n",
       "      <td>2021-08-20T13:36:00.000</td>\n",
       "      <td>2020-08-20T00:00:00.000</td>\n",
       "      <td>Euthanasia</td>\n",
       "      <td>Rabies Risk</td>\n",
       "      <td>Other</td>\n",
       "      <td>Unknown</td>\n",
       "      <td>NULL</td>\n",
       "      <td>Skunk</td>\n",
       "      <td>Black/White</td>\n",
       "      <td>NULL</td>\n",
       "      <td>Unknown</td>\n",
       "    </tr>\n",
       "    <tr>\n",
       "      <th>617</th>\n",
       "      <td>A841016</td>\n",
       "      <td>NaN</td>\n",
       "      <td>2021-08-19 08:05:00</td>\n",
       "      <td>2021-08-19T08:05:00.000</td>\n",
       "      <td>2019-08-18T00:00:00.000</td>\n",
       "      <td>Disposal</td>\n",
       "      <td>NaN</td>\n",
       "      <td>Other</td>\n",
       "      <td>Unknown</td>\n",
       "      <td>2 years</td>\n",
       "      <td>Bat</td>\n",
       "      <td>Brown/Brown</td>\n",
       "      <td>2 years</td>\n",
       "      <td>Unknown</td>\n",
       "    </tr>\n",
       "    <tr>\n",
       "      <th>625</th>\n",
       "      <td>A840634</td>\n",
       "      <td>Jack</td>\n",
       "      <td>2021-08-18 18:34:00</td>\n",
       "      <td>2021-08-18T18:34:00.000</td>\n",
       "      <td>2019-08-11T00:00:00.000</td>\n",
       "      <td>Return to Owner</td>\n",
       "      <td>NaN</td>\n",
       "      <td>Other</td>\n",
       "      <td>Unknown</td>\n",
       "      <td>2 years</td>\n",
       "      <td>Californian</td>\n",
       "      <td>White/Black</td>\n",
       "      <td>2 years</td>\n",
       "      <td>Unknown</td>\n",
       "    </tr>\n",
       "    <tr>\n",
       "      <th>704</th>\n",
       "      <td>A840651</td>\n",
       "      <td>A840651</td>\n",
       "      <td>2021-08-17 14:33:00</td>\n",
       "      <td>2021-08-17T14:33:00.000</td>\n",
       "      <td>2020-08-11T00:00:00.000</td>\n",
       "      <td>Transfer</td>\n",
       "      <td>Partner</td>\n",
       "      <td>Other</td>\n",
       "      <td>Intact Male</td>\n",
       "      <td>1 year</td>\n",
       "      <td>Rabbit Sh</td>\n",
       "      <td>Gray</td>\n",
       "      <td>1 years</td>\n",
       "      <td>Male</td>\n",
       "    </tr>\n",
       "    <tr>\n",
       "      <th>804</th>\n",
       "      <td>A840642</td>\n",
       "      <td>A840642</td>\n",
       "      <td>2021-08-14 12:42:00</td>\n",
       "      <td>2021-08-14T12:42:00.000</td>\n",
       "      <td>2020-08-11T00:00:00.000</td>\n",
       "      <td>Return to Owner</td>\n",
       "      <td>NaN</td>\n",
       "      <td>Other</td>\n",
       "      <td>Intact Female</td>\n",
       "      <td>1 year</td>\n",
       "      <td>Rabbit Sh</td>\n",
       "      <td>Brown/Black</td>\n",
       "      <td>1 years</td>\n",
       "      <td>Female</td>\n",
       "    </tr>\n",
       "    <tr>\n",
       "      <th>805</th>\n",
       "      <td>A840655</td>\n",
       "      <td>A840655</td>\n",
       "      <td>2021-08-14 12:39:00</td>\n",
       "      <td>2021-08-14T12:39:00.000</td>\n",
       "      <td>2020-08-11T00:00:00.000</td>\n",
       "      <td>Return to Owner</td>\n",
       "      <td>NaN</td>\n",
       "      <td>Other</td>\n",
       "      <td>Intact Female</td>\n",
       "      <td>1 year</td>\n",
       "      <td>Rabbit Sh</td>\n",
       "      <td>Gray</td>\n",
       "      <td>1 years</td>\n",
       "      <td>Female</td>\n",
       "    </tr>\n",
       "    <tr>\n",
       "      <th>806</th>\n",
       "      <td>A840656</td>\n",
       "      <td>A840656</td>\n",
       "      <td>2021-08-14 12:38:00</td>\n",
       "      <td>2021-08-14T12:38:00.000</td>\n",
       "      <td>2020-08-11T00:00:00.000</td>\n",
       "      <td>Return to Owner</td>\n",
       "      <td>NaN</td>\n",
       "      <td>Other</td>\n",
       "      <td>Intact Female</td>\n",
       "      <td>1 year</td>\n",
       "      <td>Rabbit Sh</td>\n",
       "      <td>Brown</td>\n",
       "      <td>1 years</td>\n",
       "      <td>Female</td>\n",
       "    </tr>\n",
       "    <tr>\n",
       "      <th>859</th>\n",
       "      <td>A840517</td>\n",
       "      <td>*Marzipan</td>\n",
       "      <td>2021-08-13 12:08:00</td>\n",
       "      <td>2021-08-13T12:08:00.000</td>\n",
       "      <td>2021-02-09T00:00:00.000</td>\n",
       "      <td>Adoption</td>\n",
       "      <td>NaN</td>\n",
       "      <td>Other</td>\n",
       "      <td>Intact Female</td>\n",
       "      <td>6 months</td>\n",
       "      <td>Lop-Holland</td>\n",
       "      <td>White/Black</td>\n",
       "      <td>6 months</td>\n",
       "      <td>Female</td>\n",
       "    </tr>\n",
       "    <tr>\n",
       "      <th>860</th>\n",
       "      <td>A840518</td>\n",
       "      <td>*Ganache</td>\n",
       "      <td>2021-08-13 12:07:00</td>\n",
       "      <td>2021-08-13T12:07:00.000</td>\n",
       "      <td>2021-02-09T00:00:00.000</td>\n",
       "      <td>Adoption</td>\n",
       "      <td>NaN</td>\n",
       "      <td>Other</td>\n",
       "      <td>Intact Female</td>\n",
       "      <td>6 months</td>\n",
       "      <td>Lop-Holland</td>\n",
       "      <td>White/Brown</td>\n",
       "      <td>6 months</td>\n",
       "      <td>Female</td>\n",
       "    </tr>\n",
       "    <tr>\n",
       "      <th>863</th>\n",
       "      <td>A839268</td>\n",
       "      <td>*Ganache</td>\n",
       "      <td>2021-08-13 11:38:00</td>\n",
       "      <td>2021-08-13T11:38:00.000</td>\n",
       "      <td>2020-07-19T00:00:00.000</td>\n",
       "      <td>Adoption</td>\n",
       "      <td>NaN</td>\n",
       "      <td>Other</td>\n",
       "      <td>Intact Female</td>\n",
       "      <td>1 year</td>\n",
       "      <td>Guinea Pig</td>\n",
       "      <td>White/Black</td>\n",
       "      <td>1 years</td>\n",
       "      <td>Female</td>\n",
       "    </tr>\n",
       "    <tr>\n",
       "      <th>864</th>\n",
       "      <td>A839267</td>\n",
       "      <td>*Marzipan</td>\n",
       "      <td>2021-08-13 11:37:00</td>\n",
       "      <td>2021-08-13T11:37:00.000</td>\n",
       "      <td>2020-07-19T00:00:00.000</td>\n",
       "      <td>Adoption</td>\n",
       "      <td>NaN</td>\n",
       "      <td>Other</td>\n",
       "      <td>Intact Female</td>\n",
       "      <td>1 year</td>\n",
       "      <td>Guinea Pig</td>\n",
       "      <td>Brown/White</td>\n",
       "      <td>1 years</td>\n",
       "      <td>Female</td>\n",
       "    </tr>\n",
       "    <tr>\n",
       "      <th>879</th>\n",
       "      <td>A840452</td>\n",
       "      <td>NaN</td>\n",
       "      <td>2021-08-12 16:24:00</td>\n",
       "      <td>2021-08-12T16:24:00.000</td>\n",
       "      <td>2019-08-08T00:00:00.000</td>\n",
       "      <td>Euthanasia</td>\n",
       "      <td>Rabies Risk</td>\n",
       "      <td>Other</td>\n",
       "      <td>Unknown</td>\n",
       "      <td>2 years</td>\n",
       "      <td>Bat</td>\n",
       "      <td>Brown</td>\n",
       "      <td>2 years</td>\n",
       "      <td>Unknown</td>\n",
       "    </tr>\n",
       "    <tr>\n",
       "      <th>897</th>\n",
       "      <td>A840657</td>\n",
       "      <td>A840657</td>\n",
       "      <td>2021-08-12 11:54:00</td>\n",
       "      <td>2021-08-12T11:54:00.000</td>\n",
       "      <td>2020-08-11T00:00:00.000</td>\n",
       "      <td>Transfer</td>\n",
       "      <td>Partner</td>\n",
       "      <td>Other</td>\n",
       "      <td>Intact Female</td>\n",
       "      <td>1 year</td>\n",
       "      <td>Rabbit Sh</td>\n",
       "      <td>Gray</td>\n",
       "      <td>1 years</td>\n",
       "      <td>Female</td>\n",
       "    </tr>\n",
       "    <tr>\n",
       "      <th>898</th>\n",
       "      <td>A840888</td>\n",
       "      <td>NaN</td>\n",
       "      <td>2021-08-12 11:54:00</td>\n",
       "      <td>2021-08-12T11:54:00.000</td>\n",
       "      <td>2020-08-17T00:00:00.000</td>\n",
       "      <td>Transfer</td>\n",
       "      <td>Partner</td>\n",
       "      <td>Other</td>\n",
       "      <td>Intact Female</td>\n",
       "      <td>11 months</td>\n",
       "      <td>Rex Mix</td>\n",
       "      <td>Tan</td>\n",
       "      <td>11 months</td>\n",
       "      <td>Female</td>\n",
       "    </tr>\n",
       "    <tr>\n",
       "      <th>899</th>\n",
       "      <td>A840653</td>\n",
       "      <td>A840653</td>\n",
       "      <td>2021-08-12 11:53:00</td>\n",
       "      <td>2021-08-12T11:53:00.000</td>\n",
       "      <td>2020-08-11T00:00:00.000</td>\n",
       "      <td>Transfer</td>\n",
       "      <td>Partner</td>\n",
       "      <td>Other</td>\n",
       "      <td>Intact Female</td>\n",
       "      <td>1 year</td>\n",
       "      <td>Rabbit Sh</td>\n",
       "      <td>Black</td>\n",
       "      <td>1 years</td>\n",
       "      <td>Female</td>\n",
       "    </tr>\n",
       "    <tr>\n",
       "      <th>900</th>\n",
       "      <td>A840664</td>\n",
       "      <td>A840664</td>\n",
       "      <td>2021-08-12 11:52:00</td>\n",
       "      <td>2021-08-12T11:52:00.000</td>\n",
       "      <td>2021-08-05T00:00:00.000</td>\n",
       "      <td>Transfer</td>\n",
       "      <td>Partner</td>\n",
       "      <td>Other</td>\n",
       "      <td>Unknown</td>\n",
       "      <td>1 week</td>\n",
       "      <td>Rabbit Sh</td>\n",
       "      <td>Gray/White</td>\n",
       "      <td>1 week</td>\n",
       "      <td>Unknown</td>\n",
       "    </tr>\n",
       "    <tr>\n",
       "      <th>901</th>\n",
       "      <td>A840663</td>\n",
       "      <td>A840663</td>\n",
       "      <td>2021-08-12 11:52:00</td>\n",
       "      <td>2021-08-12T11:52:00.000</td>\n",
       "      <td>2021-08-05T00:00:00.000</td>\n",
       "      <td>Transfer</td>\n",
       "      <td>Partner</td>\n",
       "      <td>Other</td>\n",
       "      <td>Unknown</td>\n",
       "      <td>1 week</td>\n",
       "      <td>Rabbit Sh</td>\n",
       "      <td>Gray/White</td>\n",
       "      <td>1 week</td>\n",
       "      <td>Unknown</td>\n",
       "    </tr>\n",
       "    <tr>\n",
       "      <th>902</th>\n",
       "      <td>A840662</td>\n",
       "      <td>A840662</td>\n",
       "      <td>2021-08-12 11:52:00</td>\n",
       "      <td>2021-08-12T11:52:00.000</td>\n",
       "      <td>2021-08-05T00:00:00.000</td>\n",
       "      <td>Transfer</td>\n",
       "      <td>Partner</td>\n",
       "      <td>Other</td>\n",
       "      <td>Unknown</td>\n",
       "      <td>1 week</td>\n",
       "      <td>Rabbit Sh</td>\n",
       "      <td>Gray/White</td>\n",
       "      <td>1 week</td>\n",
       "      <td>Unknown</td>\n",
       "    </tr>\n",
       "    <tr>\n",
       "      <th>903</th>\n",
       "      <td>A840661</td>\n",
       "      <td>A840661</td>\n",
       "      <td>2021-08-12 11:51:00</td>\n",
       "      <td>2021-08-12T11:51:00.000</td>\n",
       "      <td>2021-08-05T00:00:00.000</td>\n",
       "      <td>Transfer</td>\n",
       "      <td>Partner</td>\n",
       "      <td>Other</td>\n",
       "      <td>Unknown</td>\n",
       "      <td>1 week</td>\n",
       "      <td>Rabbit Sh</td>\n",
       "      <td>Gray/White</td>\n",
       "      <td>1 week</td>\n",
       "      <td>Unknown</td>\n",
       "    </tr>\n",
       "    <tr>\n",
       "      <th>904</th>\n",
       "      <td>A840660</td>\n",
       "      <td>*Robo</td>\n",
       "      <td>2021-08-12 11:51:00</td>\n",
       "      <td>2021-08-12T11:51:00.000</td>\n",
       "      <td>2021-08-05T00:00:00.000</td>\n",
       "      <td>Transfer</td>\n",
       "      <td>Partner</td>\n",
       "      <td>Other</td>\n",
       "      <td>Unknown</td>\n",
       "      <td>1 week</td>\n",
       "      <td>Rabbit Sh</td>\n",
       "      <td>Gray/White</td>\n",
       "      <td>1 week</td>\n",
       "      <td>Unknown</td>\n",
       "    </tr>\n",
       "    <tr>\n",
       "      <th>905</th>\n",
       "      <td>A840646</td>\n",
       "      <td>A840646</td>\n",
       "      <td>2021-08-12 11:50:00</td>\n",
       "      <td>2021-08-12T11:50:00.000</td>\n",
       "      <td>2021-07-27T00:00:00.000</td>\n",
       "      <td>Transfer</td>\n",
       "      <td>Partner</td>\n",
       "      <td>Other</td>\n",
       "      <td>Intact Male</td>\n",
       "      <td>2 weeks</td>\n",
       "      <td>Rabbit Sh</td>\n",
       "      <td>Blue</td>\n",
       "      <td>2 weeks</td>\n",
       "      <td>Male</td>\n",
       "    </tr>\n",
       "    <tr>\n",
       "      <th>906</th>\n",
       "      <td>A840645</td>\n",
       "      <td>A840645</td>\n",
       "      <td>2021-08-12 11:50:00</td>\n",
       "      <td>2021-08-12T11:50:00.000</td>\n",
       "      <td>2021-07-27T00:00:00.000</td>\n",
       "      <td>Transfer</td>\n",
       "      <td>Partner</td>\n",
       "      <td>Other</td>\n",
       "      <td>Intact Male</td>\n",
       "      <td>2 weeks</td>\n",
       "      <td>Rabbit Sh</td>\n",
       "      <td>Blue</td>\n",
       "      <td>2 weeks</td>\n",
       "      <td>Male</td>\n",
       "    </tr>\n",
       "    <tr>\n",
       "      <th>907</th>\n",
       "      <td>A840644</td>\n",
       "      <td>A840644</td>\n",
       "      <td>2021-08-12 11:49:00</td>\n",
       "      <td>2021-08-12T11:49:00.000</td>\n",
       "      <td>2021-07-27T00:00:00.000</td>\n",
       "      <td>Transfer</td>\n",
       "      <td>Partner</td>\n",
       "      <td>Other</td>\n",
       "      <td>Intact Female</td>\n",
       "      <td>2 weeks</td>\n",
       "      <td>Rabbit Sh</td>\n",
       "      <td>Sable</td>\n",
       "      <td>2 weeks</td>\n",
       "      <td>Female</td>\n",
       "    </tr>\n",
       "    <tr>\n",
       "      <th>909</th>\n",
       "      <td>A840643</td>\n",
       "      <td>A840643</td>\n",
       "      <td>2021-08-12 11:47:00</td>\n",
       "      <td>2021-08-12T11:47:00.000</td>\n",
       "      <td>2021-07-27T00:00:00.000</td>\n",
       "      <td>Transfer</td>\n",
       "      <td>Partner</td>\n",
       "      <td>Other</td>\n",
       "      <td>Intact Female</td>\n",
       "      <td>2 weeks</td>\n",
       "      <td>Rabbit Sh</td>\n",
       "      <td>Sable</td>\n",
       "      <td>2 weeks</td>\n",
       "      <td>Female</td>\n",
       "    </tr>\n",
       "    <tr>\n",
       "      <th>916</th>\n",
       "      <td>A840675</td>\n",
       "      <td>NaN</td>\n",
       "      <td>2021-08-12 08:52:00</td>\n",
       "      <td>2021-08-12T08:52:00.000</td>\n",
       "      <td>2019-08-11T00:00:00.000</td>\n",
       "      <td>Euthanasia</td>\n",
       "      <td>Rabies Risk</td>\n",
       "      <td>Other</td>\n",
       "      <td>Unknown</td>\n",
       "      <td>2 years</td>\n",
       "      <td>Bat</td>\n",
       "      <td>Brown/Brown</td>\n",
       "      <td>2 years</td>\n",
       "      <td>Unknown</td>\n",
       "    </tr>\n",
       "  </tbody>\n",
       "</table>\n",
       "</div>"
      ],
      "text/plain": [
       "    animal_id                name            datetime  \\\n",
       "4     A841797                 NaN 2021-09-03 10:25:00   \n",
       "31    A841728                 NaN 2021-09-02 10:22:00   \n",
       "53    A840652           *Chickpea 2021-09-01 11:16:00   \n",
       "54    A840648              *Carob 2021-09-01 11:16:00   \n",
       "55    A840647             *Bigwig 2021-09-01 11:15:00   \n",
       "74    A840650             *Sprout 2021-08-31 16:07:00   \n",
       "75    A840649             *Clover 2021-08-31 16:06:00   \n",
       "170   A841444                 NaN 2021-08-29 11:21:00   \n",
       "171   A841412                 NaN 2021-08-29 11:11:00   \n",
       "184   A840654         *Pinto Bean 2021-08-28 16:30:00   \n",
       "227   A841212                 NaN 2021-08-27 19:18:00   \n",
       "256   A840515                 NaN 2021-08-27 13:57:00   \n",
       "257   A840516                 NaN 2021-08-27 13:57:00   \n",
       "258   A840513                 NaN 2021-08-27 13:56:00   \n",
       "259   A840509  *Bruce Springsteen 2021-08-27 13:47:00   \n",
       "313   A828074            *Buzzbee 2021-08-26 12:01:00   \n",
       "351   A841275                 NaN 2021-08-25 09:43:00   \n",
       "456   A841201                 NaN 2021-08-23 08:38:00   \n",
       "457   A841070                 NaN 2021-08-23 00:00:00   \n",
       "494   A840814         *Tiny Bunny 2021-08-22 14:20:00   \n",
       "553   A841096                 NaN 2021-08-20 13:36:00   \n",
       "617   A841016                 NaN 2021-08-19 08:05:00   \n",
       "625   A840634                Jack 2021-08-18 18:34:00   \n",
       "704   A840651             A840651 2021-08-17 14:33:00   \n",
       "804   A840642             A840642 2021-08-14 12:42:00   \n",
       "805   A840655             A840655 2021-08-14 12:39:00   \n",
       "806   A840656             A840656 2021-08-14 12:38:00   \n",
       "859   A840517           *Marzipan 2021-08-13 12:08:00   \n",
       "860   A840518            *Ganache 2021-08-13 12:07:00   \n",
       "863   A839268            *Ganache 2021-08-13 11:38:00   \n",
       "864   A839267           *Marzipan 2021-08-13 11:37:00   \n",
       "879   A840452                 NaN 2021-08-12 16:24:00   \n",
       "897   A840657             A840657 2021-08-12 11:54:00   \n",
       "898   A840888                 NaN 2021-08-12 11:54:00   \n",
       "899   A840653             A840653 2021-08-12 11:53:00   \n",
       "900   A840664             A840664 2021-08-12 11:52:00   \n",
       "901   A840663             A840663 2021-08-12 11:52:00   \n",
       "902   A840662             A840662 2021-08-12 11:52:00   \n",
       "903   A840661             A840661 2021-08-12 11:51:00   \n",
       "904   A840660               *Robo 2021-08-12 11:51:00   \n",
       "905   A840646             A840646 2021-08-12 11:50:00   \n",
       "906   A840645             A840645 2021-08-12 11:50:00   \n",
       "907   A840644             A840644 2021-08-12 11:49:00   \n",
       "909   A840643             A840643 2021-08-12 11:47:00   \n",
       "916   A840675                 NaN 2021-08-12 08:52:00   \n",
       "\n",
       "                   monthyear            date_of_birth     outcome_type  \\\n",
       "4    2021-09-03T10:25:00.000  2019-09-03T00:00:00.000       Euthanasia   \n",
       "31   2021-09-02T10:22:00.000  2019-09-01T00:00:00.000       Euthanasia   \n",
       "53   2021-09-01T11:16:00.000  2020-08-11T00:00:00.000         Transfer   \n",
       "54   2021-09-01T11:16:00.000  2020-08-11T00:00:00.000         Transfer   \n",
       "55   2021-09-01T11:15:00.000  2020-08-11T00:00:00.000         Transfer   \n",
       "74   2021-08-31T16:07:00.000  2020-08-11T00:00:00.000         Adoption   \n",
       "75   2021-08-31T16:06:00.000  2020-08-11T00:00:00.000         Adoption   \n",
       "170  2021-08-29T11:21:00.000  2021-06-27T00:00:00.000       Euthanasia   \n",
       "171  2021-08-29T11:11:00.000  2019-08-27T00:00:00.000       Euthanasia   \n",
       "184  2021-08-28T16:30:00.000  2020-08-11T00:00:00.000         Adoption   \n",
       "227  2021-08-27T19:18:00.000  2019-08-23T00:00:00.000       Euthanasia   \n",
       "256  2021-08-27T13:57:00.000  2021-08-03T00:00:00.000         Adoption   \n",
       "257  2021-08-27T13:57:00.000  2021-08-03T00:00:00.000         Adoption   \n",
       "258  2021-08-27T13:56:00.000  2021-08-03T00:00:00.000         Adoption   \n",
       "259  2021-08-27T13:47:00.000  2021-03-09T00:00:00.000         Adoption   \n",
       "313  2021-08-26T12:01:00.000  2020-01-06T00:00:00.000         Adoption   \n",
       "351  2021-08-25T09:43:00.000  2019-08-24T00:00:00.000         Disposal   \n",
       "456  2021-08-23T08:38:00.000  2020-08-23T00:00:00.000       Euthanasia   \n",
       "457  2021-08-23T00:00:00.000  2020-08-19T00:00:00.000       Euthanasia   \n",
       "494  2021-08-22T14:20:00.000  2018-08-19T00:00:00.000         Adoption   \n",
       "553  2021-08-20T13:36:00.000  2020-08-20T00:00:00.000       Euthanasia   \n",
       "617  2021-08-19T08:05:00.000  2019-08-18T00:00:00.000         Disposal   \n",
       "625  2021-08-18T18:34:00.000  2019-08-11T00:00:00.000  Return to Owner   \n",
       "704  2021-08-17T14:33:00.000  2020-08-11T00:00:00.000         Transfer   \n",
       "804  2021-08-14T12:42:00.000  2020-08-11T00:00:00.000  Return to Owner   \n",
       "805  2021-08-14T12:39:00.000  2020-08-11T00:00:00.000  Return to Owner   \n",
       "806  2021-08-14T12:38:00.000  2020-08-11T00:00:00.000  Return to Owner   \n",
       "859  2021-08-13T12:08:00.000  2021-02-09T00:00:00.000         Adoption   \n",
       "860  2021-08-13T12:07:00.000  2021-02-09T00:00:00.000         Adoption   \n",
       "863  2021-08-13T11:38:00.000  2020-07-19T00:00:00.000         Adoption   \n",
       "864  2021-08-13T11:37:00.000  2020-07-19T00:00:00.000         Adoption   \n",
       "879  2021-08-12T16:24:00.000  2019-08-08T00:00:00.000       Euthanasia   \n",
       "897  2021-08-12T11:54:00.000  2020-08-11T00:00:00.000         Transfer   \n",
       "898  2021-08-12T11:54:00.000  2020-08-17T00:00:00.000         Transfer   \n",
       "899  2021-08-12T11:53:00.000  2020-08-11T00:00:00.000         Transfer   \n",
       "900  2021-08-12T11:52:00.000  2021-08-05T00:00:00.000         Transfer   \n",
       "901  2021-08-12T11:52:00.000  2021-08-05T00:00:00.000         Transfer   \n",
       "902  2021-08-12T11:52:00.000  2021-08-05T00:00:00.000         Transfer   \n",
       "903  2021-08-12T11:51:00.000  2021-08-05T00:00:00.000         Transfer   \n",
       "904  2021-08-12T11:51:00.000  2021-08-05T00:00:00.000         Transfer   \n",
       "905  2021-08-12T11:50:00.000  2021-07-27T00:00:00.000         Transfer   \n",
       "906  2021-08-12T11:50:00.000  2021-07-27T00:00:00.000         Transfer   \n",
       "907  2021-08-12T11:49:00.000  2021-07-27T00:00:00.000         Transfer   \n",
       "909  2021-08-12T11:47:00.000  2021-07-27T00:00:00.000         Transfer   \n",
       "916  2021-08-12T08:52:00.000  2019-08-11T00:00:00.000       Euthanasia   \n",
       "\n",
       "    outcome_subtype animal_type sex_upon_outcome age_upon_outcome  \\\n",
       "4       Rabies Risk       Other          Unknown             NULL   \n",
       "31      Rabies Risk       Other          Unknown          2 years   \n",
       "53          Partner       Other    Intact Female           1 year   \n",
       "54          Partner       Other      Intact Male           1 year   \n",
       "55          Partner       Other      Intact Male           1 year   \n",
       "74              NaN       Other    Intact Female           1 year   \n",
       "75              NaN       Other    Intact Female           1 year   \n",
       "170     Rabies Risk       Other          Unknown         2 months   \n",
       "171     Rabies Risk       Other          Unknown          2 years   \n",
       "184             NaN       Other      Intact Male           1 year   \n",
       "227     Rabies Risk       Other          Unknown          2 years   \n",
       "256          Foster       Other    Intact Female          3 weeks   \n",
       "257          Foster       Other    Intact Female          3 weeks   \n",
       "258          Foster       Other    Intact Female          3 weeks   \n",
       "259          Foster       Other      Intact Male         5 months   \n",
       "313          Foster       Other    Neutered Male           1 year   \n",
       "351             NaN       Other          Unknown          2 years   \n",
       "456     Rabies Risk       Other          Unknown           1 year   \n",
       "457     Rabies Risk       Other          Unknown           1 year   \n",
       "494             NaN       Other      Intact Male          3 years   \n",
       "553     Rabies Risk       Other          Unknown             NULL   \n",
       "617             NaN       Other          Unknown          2 years   \n",
       "625             NaN       Other          Unknown          2 years   \n",
       "704         Partner       Other      Intact Male           1 year   \n",
       "804             NaN       Other    Intact Female           1 year   \n",
       "805             NaN       Other    Intact Female           1 year   \n",
       "806             NaN       Other    Intact Female           1 year   \n",
       "859             NaN       Other    Intact Female         6 months   \n",
       "860             NaN       Other    Intact Female         6 months   \n",
       "863             NaN       Other    Intact Female           1 year   \n",
       "864             NaN       Other    Intact Female           1 year   \n",
       "879     Rabies Risk       Other          Unknown          2 years   \n",
       "897         Partner       Other    Intact Female           1 year   \n",
       "898         Partner       Other    Intact Female        11 months   \n",
       "899         Partner       Other    Intact Female           1 year   \n",
       "900         Partner       Other          Unknown           1 week   \n",
       "901         Partner       Other          Unknown           1 week   \n",
       "902         Partner       Other          Unknown           1 week   \n",
       "903         Partner       Other          Unknown           1 week   \n",
       "904         Partner       Other          Unknown           1 week   \n",
       "905         Partner       Other      Intact Male          2 weeks   \n",
       "906         Partner       Other      Intact Male          2 weeks   \n",
       "907         Partner       Other    Intact Female          2 weeks   \n",
       "909         Partner       Other    Intact Female          2 weeks   \n",
       "916     Rabies Risk       Other          Unknown          2 years   \n",
       "\n",
       "               breed        color   new_age1 new_sex1  \n",
       "4            Raccoon   Black/Gray       NULL  Unknown  \n",
       "31               Bat        Brown    2 years  Unknown  \n",
       "53         Rabbit Sh        Brown    1 years   Female  \n",
       "54         Rabbit Sh         Gray    1 years     Male  \n",
       "55         Rabbit Sh         Gray    1 years     Male  \n",
       "74         Rabbit Sh   Gray/White    1 years   Female  \n",
       "75         Rabbit Sh         Gray    1 years   Female  \n",
       "170              Fox         Gray   2 months  Unknown  \n",
       "171          Raccoon   Gray/Black    2 years  Unknown  \n",
       "184        Rabbit Sh        Brown    1 years     Male  \n",
       "227              Bat  Brown/Brown    2 years  Unknown  \n",
       "256            Mouse    Tan/White    3 weeks   Female  \n",
       "257            Mouse          Tan    3 weeks   Female  \n",
       "258            Mouse        White    3 weeks   Female  \n",
       "259            Mouse        Brown   5 months     Male  \n",
       "313        Rabbit Sh   White/Gray    1 years     Male  \n",
       "351              Bat  Brown/Brown    2 years  Unknown  \n",
       "456              Bat        Brown    1 years  Unknown  \n",
       "457              Bat        Brown    1 years  Unknown  \n",
       "494  Netherlnd Dwarf  Black/White    3 years     Male  \n",
       "553            Skunk  Black/White       NULL  Unknown  \n",
       "617              Bat  Brown/Brown    2 years  Unknown  \n",
       "625      Californian  White/Black    2 years  Unknown  \n",
       "704        Rabbit Sh         Gray    1 years     Male  \n",
       "804        Rabbit Sh  Brown/Black    1 years   Female  \n",
       "805        Rabbit Sh         Gray    1 years   Female  \n",
       "806        Rabbit Sh        Brown    1 years   Female  \n",
       "859      Lop-Holland  White/Black   6 months   Female  \n",
       "860      Lop-Holland  White/Brown   6 months   Female  \n",
       "863       Guinea Pig  White/Black    1 years   Female  \n",
       "864       Guinea Pig  Brown/White    1 years   Female  \n",
       "879              Bat        Brown    2 years  Unknown  \n",
       "897        Rabbit Sh         Gray    1 years   Female  \n",
       "898          Rex Mix          Tan  11 months   Female  \n",
       "899        Rabbit Sh        Black    1 years   Female  \n",
       "900        Rabbit Sh   Gray/White     1 week  Unknown  \n",
       "901        Rabbit Sh   Gray/White     1 week  Unknown  \n",
       "902        Rabbit Sh   Gray/White     1 week  Unknown  \n",
       "903        Rabbit Sh   Gray/White     1 week  Unknown  \n",
       "904        Rabbit Sh   Gray/White     1 week  Unknown  \n",
       "905        Rabbit Sh         Blue    2 weeks     Male  \n",
       "906        Rabbit Sh         Blue    2 weeks     Male  \n",
       "907        Rabbit Sh        Sable    2 weeks   Female  \n",
       "909        Rabbit Sh        Sable    2 weeks   Female  \n",
       "916              Bat  Brown/Brown    2 years  Unknown  "
      ]
     },
     "execution_count": 20,
     "metadata": {},
     "output_type": "execute_result"
    }
   ],
   "source": [
    "animals[animals['animal_type'] == 'Other']"
   ]
  },
  {
   "cell_type": "code",
   "execution_count": 21,
   "metadata": {
    "hidden": true
   },
   "outputs": [
    {
     "data": {
      "text/plain": [
       "Cat          494\n",
       "Dog          456\n",
       "Other         45\n",
       "Livestock      3\n",
       "Bird           2\n",
       "Name: animal_type, dtype: int64"
      ]
     },
     "execution_count": 21,
     "metadata": {},
     "output_type": "execute_result"
    }
   ],
   "source": [
    "animals['animal_type'].value_counts()"
   ]
  },
  {
   "cell_type": "code",
   "execution_count": 22,
   "metadata": {},
   "outputs": [
    {
     "data": {
      "text/plain": [
       "float"
      ]
     },
     "execution_count": 22,
     "metadata": {},
     "output_type": "execute_result"
    }
   ],
   "source": [
    "type(np.nan)"
   ]
  },
  {
   "cell_type": "code",
   "execution_count": 23,
   "metadata": {
    "hidden": true,
    "scrolled": false
   },
   "outputs": [
    {
     "data": {
      "text/plain": [
       "Cat          494\n",
       "Dog          456\n",
       "Livestock      3\n",
       "Bird           2\n",
       "Name: animal_type, dtype: int64"
      ]
     },
     "execution_count": 23,
     "metadata": {},
     "output_type": "execute_result"
    }
   ],
   "source": [
    "animals['animal_type'].map(lambda x: np.nan if x == 'Other' else x).value_counts()\n",
    "#your are defining the function with the code below\n",
    "#lambda x: np.nan if x == 'Other' else x\n",
    "#lambda is a quick fuction"
   ]
  },
  {
   "cell_type": "code",
   "execution_count": 24,
   "metadata": {},
   "outputs": [
    {
     "data": {
      "text/plain": [
       "Cat          494\n",
       "Dog          456\n",
       "Other         45\n",
       "Livestock      3\n",
       "Bird           2\n",
       "Name: animal_type, dtype: int64"
      ]
     },
     "execution_count": 24,
     "metadata": {},
     "output_type": "execute_result"
    }
   ],
   "source": [
    "animals['animal_type'].value_counts()\n",
    "#mapping doesn't overright the values"
   ]
  },
  {
   "cell_type": "code",
   "execution_count": 25,
   "metadata": {},
   "outputs": [],
   "source": [
    "#the below line of code would change animal type values\n",
    "#animals['animal_type'] = animals['animal_type'].map(lambda x: np.nan if x == 'Other' else x)"
   ]
  },
  {
   "cell_type": "markdown",
   "metadata": {
    "heading_collapsed": true
   },
   "source": [
    "# Handling Missing Data"
   ]
  },
  {
   "cell_type": "markdown",
   "metadata": {
    "hidden": true
   },
   "source": [
    "A lot of the times we'll have missing information in our data set. This can sometimes be troublesome in what we're trying to do."
   ]
  },
  {
   "cell_type": "markdown",
   "metadata": {
    "hidden": true
   },
   "source": [
    "So far, we've been doing some preprocessing/cleaning to answer questions. Now we're going to handle the missing values in our data.\n",
    "\n",
    "There are a few strategies we can choose from and they each have their special use case."
   ]
  },
  {
   "cell_type": "markdown",
   "metadata": {
    "hidden": true
   },
   "source": [
    "> Before making changes, it's convenient to make changes to a copy instead of overwriting data. We'll keep all our changes in `animals_clean` which will be a [copy](https://pandas.pydata.org/docs/reference/api/pandas.DataFrame.copy.html) of the original DataFrame."
   ]
  },
  {
   "cell_type": "code",
   "execution_count": 26,
   "metadata": {
    "hidden": true
   },
   "outputs": [],
   "source": [
    "#1 idea is to make a copy of the dataframe so that you can keep the original copy\n",
    "animals_clean = animals.copy()"
   ]
  },
  {
   "cell_type": "markdown",
   "metadata": {
    "heading_collapsed": true,
    "hidden": true
   },
   "source": [
    "## Fill with a Relevant Value"
   ]
  },
  {
   "cell_type": "markdown",
   "metadata": {
    "hidden": true
   },
   "source": [
    "A lot of times we already have an idea of how we want to specify that a value was missing and replace it with a value that makes more sense than an \"empty\" value."
   ]
  },
  {
   "cell_type": "markdown",
   "metadata": {
    "hidden": true
   },
   "source": [
    "For example, it might make sense to fill the value as \"MISSING\" or \"UNKNOWN\". This way it's clearer when do more analysis."
   ]
  },
  {
   "cell_type": "markdown",
   "metadata": {
    "hidden": true
   },
   "source": [
    "> We can use Pandas' [`fillna()` method](https://pandas.pydata.org/pandas-docs/stable/reference/api/pandas.DataFrame.fillna.html) to replace missing values with something specific"
   ]
  },
  {
   "cell_type": "code",
   "execution_count": 27,
   "metadata": {
    "hidden": true
   },
   "outputs": [
    {
     "data": {
      "text/html": [
       "<div>\n",
       "<style scoped>\n",
       "    .dataframe tbody tr th:only-of-type {\n",
       "        vertical-align: middle;\n",
       "    }\n",
       "\n",
       "    .dataframe tbody tr th {\n",
       "        vertical-align: top;\n",
       "    }\n",
       "\n",
       "    .dataframe thead th {\n",
       "        text-align: right;\n",
       "    }\n",
       "</style>\n",
       "<table border=\"1\" class=\"dataframe\">\n",
       "  <thead>\n",
       "    <tr style=\"text-align: right;\">\n",
       "      <th></th>\n",
       "      <th>animal_id</th>\n",
       "      <th>name</th>\n",
       "      <th>datetime</th>\n",
       "      <th>monthyear</th>\n",
       "      <th>date_of_birth</th>\n",
       "      <th>outcome_type</th>\n",
       "      <th>outcome_subtype</th>\n",
       "      <th>animal_type</th>\n",
       "      <th>sex_upon_outcome</th>\n",
       "      <th>age_upon_outcome</th>\n",
       "      <th>breed</th>\n",
       "      <th>color</th>\n",
       "      <th>new_age1</th>\n",
       "      <th>new_sex1</th>\n",
       "    </tr>\n",
       "  </thead>\n",
       "  <tbody>\n",
       "    <tr>\n",
       "      <th>0</th>\n",
       "      <td>A740038</td>\n",
       "      <td>*Pearl</td>\n",
       "      <td>2021-09-03 11:26:00</td>\n",
       "      <td>2021-09-03T11:26:00.000</td>\n",
       "      <td>2016-10-10T00:00:00.000</td>\n",
       "      <td>Transfer</td>\n",
       "      <td>Partner</td>\n",
       "      <td>Dog</td>\n",
       "      <td>Spayed Female</td>\n",
       "      <td>4 years</td>\n",
       "      <td>Dachshund Wirehair Mix</td>\n",
       "      <td>Black</td>\n",
       "      <td>4 years</td>\n",
       "      <td>Female</td>\n",
       "    </tr>\n",
       "    <tr>\n",
       "      <th>1</th>\n",
       "      <td>A841793</td>\n",
       "      <td>73 Grams</td>\n",
       "      <td>2021-09-03 11:11:00</td>\n",
       "      <td>2021-09-03T11:11:00.000</td>\n",
       "      <td>2021-09-01T00:00:00.000</td>\n",
       "      <td>Transfer</td>\n",
       "      <td>Partner</td>\n",
       "      <td>Cat</td>\n",
       "      <td>Intact Female</td>\n",
       "      <td>2 days</td>\n",
       "      <td>Domestic Shorthair</td>\n",
       "      <td>White/Black</td>\n",
       "      <td>2 days</td>\n",
       "      <td>Female</td>\n",
       "    </tr>\n",
       "    <tr>\n",
       "      <th>2</th>\n",
       "      <td>A841589</td>\n",
       "      <td>A841589</td>\n",
       "      <td>2021-09-03 11:04:00</td>\n",
       "      <td>2021-09-03T11:04:00.000</td>\n",
       "      <td>2020-08-30T00:00:00.000</td>\n",
       "      <td>Transfer</td>\n",
       "      <td>Partner</td>\n",
       "      <td>Dog</td>\n",
       "      <td>Intact Male</td>\n",
       "      <td>1 year</td>\n",
       "      <td>Australian Shepherd Mix</td>\n",
       "      <td>Blue Merle</td>\n",
       "      <td>1 years</td>\n",
       "      <td>Male</td>\n",
       "    </tr>\n",
       "    <tr>\n",
       "      <th>3</th>\n",
       "      <td>A841558</td>\n",
       "      <td>A841558</td>\n",
       "      <td>2021-09-03 11:04:00</td>\n",
       "      <td>2021-09-03T11:04:00.000</td>\n",
       "      <td>2021-06-30T00:00:00.000</td>\n",
       "      <td>Transfer</td>\n",
       "      <td>Partner</td>\n",
       "      <td>Dog</td>\n",
       "      <td>Intact Female</td>\n",
       "      <td>2 months</td>\n",
       "      <td>Australian Shepherd Mix</td>\n",
       "      <td>Blue Merle/White</td>\n",
       "      <td>2 months</td>\n",
       "      <td>Female</td>\n",
       "    </tr>\n",
       "    <tr>\n",
       "      <th>4</th>\n",
       "      <td>A841797</td>\n",
       "      <td>UNKNOWN</td>\n",
       "      <td>2021-09-03 10:25:00</td>\n",
       "      <td>2021-09-03T10:25:00.000</td>\n",
       "      <td>2019-09-03T00:00:00.000</td>\n",
       "      <td>Euthanasia</td>\n",
       "      <td>Rabies Risk</td>\n",
       "      <td>Other</td>\n",
       "      <td>Unknown</td>\n",
       "      <td>NULL</td>\n",
       "      <td>Raccoon</td>\n",
       "      <td>Black/Gray</td>\n",
       "      <td>NULL</td>\n",
       "      <td>Unknown</td>\n",
       "    </tr>\n",
       "  </tbody>\n",
       "</table>\n",
       "</div>"
      ],
      "text/plain": [
       "  animal_id      name            datetime                monthyear  \\\n",
       "0   A740038    *Pearl 2021-09-03 11:26:00  2021-09-03T11:26:00.000   \n",
       "1   A841793  73 Grams 2021-09-03 11:11:00  2021-09-03T11:11:00.000   \n",
       "2   A841589   A841589 2021-09-03 11:04:00  2021-09-03T11:04:00.000   \n",
       "3   A841558   A841558 2021-09-03 11:04:00  2021-09-03T11:04:00.000   \n",
       "4   A841797   UNKNOWN 2021-09-03 10:25:00  2021-09-03T10:25:00.000   \n",
       "\n",
       "             date_of_birth outcome_type outcome_subtype animal_type  \\\n",
       "0  2016-10-10T00:00:00.000     Transfer         Partner         Dog   \n",
       "1  2021-09-01T00:00:00.000     Transfer         Partner         Cat   \n",
       "2  2020-08-30T00:00:00.000     Transfer         Partner         Dog   \n",
       "3  2021-06-30T00:00:00.000     Transfer         Partner         Dog   \n",
       "4  2019-09-03T00:00:00.000   Euthanasia     Rabies Risk       Other   \n",
       "\n",
       "  sex_upon_outcome age_upon_outcome                    breed  \\\n",
       "0    Spayed Female          4 years   Dachshund Wirehair Mix   \n",
       "1    Intact Female           2 days       Domestic Shorthair   \n",
       "2      Intact Male           1 year  Australian Shepherd Mix   \n",
       "3    Intact Female         2 months  Australian Shepherd Mix   \n",
       "4          Unknown             NULL                  Raccoon   \n",
       "\n",
       "              color  new_age1 new_sex1  \n",
       "0             Black   4 years   Female  \n",
       "1       White/Black    2 days   Female  \n",
       "2        Blue Merle   1 years     Male  \n",
       "3  Blue Merle/White  2 months   Female  \n",
       "4        Black/Gray      NULL  Unknown  "
      ]
     },
     "execution_count": 27,
     "metadata": {},
     "output_type": "execute_result"
    }
   ],
   "source": [
    "# Note this creates a copy of `animals` with the missing values replaced\n",
    "#if i find a null in the name column, replace with the string 'UNKNOWN'\n",
    "animals_name_filled = animals_clean.fillna({'name':'UNKNOWN'}) # {col_name:new_value}\n",
    "animals_name_filled.head()"
   ]
  },
  {
   "cell_type": "code",
   "execution_count": 28,
   "metadata": {
    "hidden": true
   },
   "outputs": [
    {
     "data": {
      "text/html": [
       "<div>\n",
       "<style scoped>\n",
       "    .dataframe tbody tr th:only-of-type {\n",
       "        vertical-align: middle;\n",
       "    }\n",
       "\n",
       "    .dataframe tbody tr th {\n",
       "        vertical-align: top;\n",
       "    }\n",
       "\n",
       "    .dataframe thead th {\n",
       "        text-align: right;\n",
       "    }\n",
       "</style>\n",
       "<table border=\"1\" class=\"dataframe\">\n",
       "  <thead>\n",
       "    <tr style=\"text-align: right;\">\n",
       "      <th></th>\n",
       "      <th>animal_id</th>\n",
       "      <th>name</th>\n",
       "      <th>datetime</th>\n",
       "      <th>monthyear</th>\n",
       "      <th>date_of_birth</th>\n",
       "      <th>outcome_type</th>\n",
       "      <th>outcome_subtype</th>\n",
       "      <th>animal_type</th>\n",
       "      <th>sex_upon_outcome</th>\n",
       "      <th>age_upon_outcome</th>\n",
       "      <th>breed</th>\n",
       "      <th>color</th>\n",
       "      <th>new_age1</th>\n",
       "      <th>new_sex1</th>\n",
       "    </tr>\n",
       "  </thead>\n",
       "  <tbody>\n",
       "    <tr>\n",
       "      <th>0</th>\n",
       "      <td>A740038</td>\n",
       "      <td>*Pearl</td>\n",
       "      <td>2021-09-03 11:26:00</td>\n",
       "      <td>2021-09-03T11:26:00.000</td>\n",
       "      <td>2016-10-10T00:00:00.000</td>\n",
       "      <td>Transfer</td>\n",
       "      <td>Partner</td>\n",
       "      <td>Dog</td>\n",
       "      <td>Spayed Female</td>\n",
       "      <td>4 years</td>\n",
       "      <td>Dachshund Wirehair Mix</td>\n",
       "      <td>Black</td>\n",
       "      <td>4 years</td>\n",
       "      <td>Female</td>\n",
       "    </tr>\n",
       "    <tr>\n",
       "      <th>1</th>\n",
       "      <td>A841793</td>\n",
       "      <td>73 Grams</td>\n",
       "      <td>2021-09-03 11:11:00</td>\n",
       "      <td>2021-09-03T11:11:00.000</td>\n",
       "      <td>2021-09-01T00:00:00.000</td>\n",
       "      <td>Transfer</td>\n",
       "      <td>Partner</td>\n",
       "      <td>Cat</td>\n",
       "      <td>Intact Female</td>\n",
       "      <td>2 days</td>\n",
       "      <td>Domestic Shorthair</td>\n",
       "      <td>White/Black</td>\n",
       "      <td>2 days</td>\n",
       "      <td>Female</td>\n",
       "    </tr>\n",
       "    <tr>\n",
       "      <th>2</th>\n",
       "      <td>A841589</td>\n",
       "      <td>A841589</td>\n",
       "      <td>2021-09-03 11:04:00</td>\n",
       "      <td>2021-09-03T11:04:00.000</td>\n",
       "      <td>2020-08-30T00:00:00.000</td>\n",
       "      <td>Transfer</td>\n",
       "      <td>Partner</td>\n",
       "      <td>Dog</td>\n",
       "      <td>Intact Male</td>\n",
       "      <td>1 year</td>\n",
       "      <td>Australian Shepherd Mix</td>\n",
       "      <td>Blue Merle</td>\n",
       "      <td>1 years</td>\n",
       "      <td>Male</td>\n",
       "    </tr>\n",
       "    <tr>\n",
       "      <th>3</th>\n",
       "      <td>A841558</td>\n",
       "      <td>A841558</td>\n",
       "      <td>2021-09-03 11:04:00</td>\n",
       "      <td>2021-09-03T11:04:00.000</td>\n",
       "      <td>2021-06-30T00:00:00.000</td>\n",
       "      <td>Transfer</td>\n",
       "      <td>Partner</td>\n",
       "      <td>Dog</td>\n",
       "      <td>Intact Female</td>\n",
       "      <td>2 months</td>\n",
       "      <td>Australian Shepherd Mix</td>\n",
       "      <td>Blue Merle/White</td>\n",
       "      <td>2 months</td>\n",
       "      <td>Female</td>\n",
       "    </tr>\n",
       "    <tr>\n",
       "      <th>4</th>\n",
       "      <td>A841797</td>\n",
       "      <td>NaN</td>\n",
       "      <td>2021-09-03 10:25:00</td>\n",
       "      <td>2021-09-03T10:25:00.000</td>\n",
       "      <td>2019-09-03T00:00:00.000</td>\n",
       "      <td>Euthanasia</td>\n",
       "      <td>Rabies Risk</td>\n",
       "      <td>Other</td>\n",
       "      <td>Unknown</td>\n",
       "      <td>NULL</td>\n",
       "      <td>Raccoon</td>\n",
       "      <td>Black/Gray</td>\n",
       "      <td>NULL</td>\n",
       "      <td>Unknown</td>\n",
       "    </tr>\n",
       "  </tbody>\n",
       "</table>\n",
       "</div>"
      ],
      "text/plain": [
       "  animal_id      name            datetime                monthyear  \\\n",
       "0   A740038    *Pearl 2021-09-03 11:26:00  2021-09-03T11:26:00.000   \n",
       "1   A841793  73 Grams 2021-09-03 11:11:00  2021-09-03T11:11:00.000   \n",
       "2   A841589   A841589 2021-09-03 11:04:00  2021-09-03T11:04:00.000   \n",
       "3   A841558   A841558 2021-09-03 11:04:00  2021-09-03T11:04:00.000   \n",
       "4   A841797       NaN 2021-09-03 10:25:00  2021-09-03T10:25:00.000   \n",
       "\n",
       "             date_of_birth outcome_type outcome_subtype animal_type  \\\n",
       "0  2016-10-10T00:00:00.000     Transfer         Partner         Dog   \n",
       "1  2021-09-01T00:00:00.000     Transfer         Partner         Cat   \n",
       "2  2020-08-30T00:00:00.000     Transfer         Partner         Dog   \n",
       "3  2021-06-30T00:00:00.000     Transfer         Partner         Dog   \n",
       "4  2019-09-03T00:00:00.000   Euthanasia     Rabies Risk       Other   \n",
       "\n",
       "  sex_upon_outcome age_upon_outcome                    breed  \\\n",
       "0    Spayed Female          4 years   Dachshund Wirehair Mix   \n",
       "1    Intact Female           2 days       Domestic Shorthair   \n",
       "2      Intact Male           1 year  Australian Shepherd Mix   \n",
       "3    Intact Female         2 months  Australian Shepherd Mix   \n",
       "4          Unknown             NULL                  Raccoon   \n",
       "\n",
       "              color  new_age1 new_sex1  \n",
       "0             Black   4 years   Female  \n",
       "1       White/Black    2 days   Female  \n",
       "2        Blue Merle   1 years     Male  \n",
       "3  Blue Merle/White  2 months   Female  \n",
       "4        Black/Gray      NULL  Unknown  "
      ]
     },
     "execution_count": 28,
     "metadata": {},
     "output_type": "execute_result"
    }
   ],
   "source": [
    "# `animals` DataFrame is left untouched\n",
    "animals.head()\n",
    "#even 'animals_cleaned' is untouched"
   ]
  },
  {
   "cell_type": "code",
   "execution_count": 29,
   "metadata": {
    "hidden": true
   },
   "outputs": [
    {
     "data": {
      "text/html": [
       "<div>\n",
       "<style scoped>\n",
       "    .dataframe tbody tr th:only-of-type {\n",
       "        vertical-align: middle;\n",
       "    }\n",
       "\n",
       "    .dataframe tbody tr th {\n",
       "        vertical-align: top;\n",
       "    }\n",
       "\n",
       "    .dataframe thead th {\n",
       "        text-align: right;\n",
       "    }\n",
       "</style>\n",
       "<table border=\"1\" class=\"dataframe\">\n",
       "  <thead>\n",
       "    <tr style=\"text-align: right;\">\n",
       "      <th></th>\n",
       "      <th>name</th>\n",
       "    </tr>\n",
       "  </thead>\n",
       "  <tbody>\n",
       "    <tr>\n",
       "      <th>0</th>\n",
       "      <td>*Pearl</td>\n",
       "    </tr>\n",
       "    <tr>\n",
       "      <th>1</th>\n",
       "      <td>73 Grams</td>\n",
       "    </tr>\n",
       "    <tr>\n",
       "      <th>2</th>\n",
       "      <td>A841589</td>\n",
       "    </tr>\n",
       "    <tr>\n",
       "      <th>3</th>\n",
       "      <td>A841558</td>\n",
       "    </tr>\n",
       "    <tr>\n",
       "      <th>4</th>\n",
       "      <td>UNKNOWN</td>\n",
       "    </tr>\n",
       "  </tbody>\n",
       "</table>\n",
       "</div>"
      ],
      "text/plain": [
       "       name\n",
       "0    *Pearl\n",
       "1  73 Grams\n",
       "2   A841589\n",
       "3   A841558\n",
       "4   UNKNOWN"
      ]
     },
     "execution_count": 29,
     "metadata": {},
     "output_type": "execute_result"
    }
   ],
   "source": [
    "# Alternative way to fill missing values by specifying column(s) first\n",
    "animals_only_names = animals[['name']].fillna(value='UNKNOWN')\n",
    "animals_only_names.head()"
   ]
  },
  {
   "cell_type": "code",
   "execution_count": 30,
   "metadata": {
    "hidden": true
   },
   "outputs": [
    {
     "data": {
      "text/html": [
       "<div>\n",
       "<style scoped>\n",
       "    .dataframe tbody tr th:only-of-type {\n",
       "        vertical-align: middle;\n",
       "    }\n",
       "\n",
       "    .dataframe tbody tr th {\n",
       "        vertical-align: top;\n",
       "    }\n",
       "\n",
       "    .dataframe thead th {\n",
       "        text-align: right;\n",
       "    }\n",
       "</style>\n",
       "<table border=\"1\" class=\"dataframe\">\n",
       "  <thead>\n",
       "    <tr style=\"text-align: right;\">\n",
       "      <th></th>\n",
       "      <th>animal_id</th>\n",
       "      <th>name</th>\n",
       "      <th>datetime</th>\n",
       "      <th>monthyear</th>\n",
       "      <th>date_of_birth</th>\n",
       "      <th>outcome_type</th>\n",
       "      <th>outcome_subtype</th>\n",
       "      <th>animal_type</th>\n",
       "      <th>sex_upon_outcome</th>\n",
       "      <th>age_upon_outcome</th>\n",
       "      <th>breed</th>\n",
       "      <th>color</th>\n",
       "      <th>new_age1</th>\n",
       "      <th>new_sex1</th>\n",
       "    </tr>\n",
       "  </thead>\n",
       "  <tbody>\n",
       "    <tr>\n",
       "      <th>0</th>\n",
       "      <td>A740038</td>\n",
       "      <td>*Pearl</td>\n",
       "      <td>2021-09-03 11:26:00</td>\n",
       "      <td>2021-09-03T11:26:00.000</td>\n",
       "      <td>2016-10-10T00:00:00.000</td>\n",
       "      <td>Transfer</td>\n",
       "      <td>Partner</td>\n",
       "      <td>Dog</td>\n",
       "      <td>Spayed Female</td>\n",
       "      <td>4 years</td>\n",
       "      <td>Dachshund Wirehair Mix</td>\n",
       "      <td>Black</td>\n",
       "      <td>4 years</td>\n",
       "      <td>Female</td>\n",
       "    </tr>\n",
       "    <tr>\n",
       "      <th>1</th>\n",
       "      <td>A841793</td>\n",
       "      <td>73 Grams</td>\n",
       "      <td>2021-09-03 11:11:00</td>\n",
       "      <td>2021-09-03T11:11:00.000</td>\n",
       "      <td>2021-09-01T00:00:00.000</td>\n",
       "      <td>Transfer</td>\n",
       "      <td>Partner</td>\n",
       "      <td>Cat</td>\n",
       "      <td>Intact Female</td>\n",
       "      <td>2 days</td>\n",
       "      <td>Domestic Shorthair</td>\n",
       "      <td>White/Black</td>\n",
       "      <td>2 days</td>\n",
       "      <td>Female</td>\n",
       "    </tr>\n",
       "    <tr>\n",
       "      <th>2</th>\n",
       "      <td>A841589</td>\n",
       "      <td>A841589</td>\n",
       "      <td>2021-09-03 11:04:00</td>\n",
       "      <td>2021-09-03T11:04:00.000</td>\n",
       "      <td>2020-08-30T00:00:00.000</td>\n",
       "      <td>Transfer</td>\n",
       "      <td>Partner</td>\n",
       "      <td>Dog</td>\n",
       "      <td>Intact Male</td>\n",
       "      <td>1 year</td>\n",
       "      <td>Australian Shepherd Mix</td>\n",
       "      <td>Blue Merle</td>\n",
       "      <td>1 years</td>\n",
       "      <td>Male</td>\n",
       "    </tr>\n",
       "    <tr>\n",
       "      <th>3</th>\n",
       "      <td>A841558</td>\n",
       "      <td>A841558</td>\n",
       "      <td>2021-09-03 11:04:00</td>\n",
       "      <td>2021-09-03T11:04:00.000</td>\n",
       "      <td>2021-06-30T00:00:00.000</td>\n",
       "      <td>Transfer</td>\n",
       "      <td>Partner</td>\n",
       "      <td>Dog</td>\n",
       "      <td>Intact Female</td>\n",
       "      <td>2 months</td>\n",
       "      <td>Australian Shepherd Mix</td>\n",
       "      <td>Blue Merle/White</td>\n",
       "      <td>2 months</td>\n",
       "      <td>Female</td>\n",
       "    </tr>\n",
       "    <tr>\n",
       "      <th>4</th>\n",
       "      <td>A841797</td>\n",
       "      <td>UNKNOWN</td>\n",
       "      <td>2021-09-03 10:25:00</td>\n",
       "      <td>2021-09-03T10:25:00.000</td>\n",
       "      <td>2019-09-03T00:00:00.000</td>\n",
       "      <td>Euthanasia</td>\n",
       "      <td>Rabies Risk</td>\n",
       "      <td>Other</td>\n",
       "      <td>Unknown</td>\n",
       "      <td>NULL</td>\n",
       "      <td>Raccoon</td>\n",
       "      <td>Black/Gray</td>\n",
       "      <td>NULL</td>\n",
       "      <td>Unknown</td>\n",
       "    </tr>\n",
       "  </tbody>\n",
       "</table>\n",
       "</div>"
      ],
      "text/plain": [
       "  animal_id      name            datetime                monthyear  \\\n",
       "0   A740038    *Pearl 2021-09-03 11:26:00  2021-09-03T11:26:00.000   \n",
       "1   A841793  73 Grams 2021-09-03 11:11:00  2021-09-03T11:11:00.000   \n",
       "2   A841589   A841589 2021-09-03 11:04:00  2021-09-03T11:04:00.000   \n",
       "3   A841558   A841558 2021-09-03 11:04:00  2021-09-03T11:04:00.000   \n",
       "4   A841797   UNKNOWN 2021-09-03 10:25:00  2021-09-03T10:25:00.000   \n",
       "\n",
       "             date_of_birth outcome_type outcome_subtype animal_type  \\\n",
       "0  2016-10-10T00:00:00.000     Transfer         Partner         Dog   \n",
       "1  2021-09-01T00:00:00.000     Transfer         Partner         Cat   \n",
       "2  2020-08-30T00:00:00.000     Transfer         Partner         Dog   \n",
       "3  2021-06-30T00:00:00.000     Transfer         Partner         Dog   \n",
       "4  2019-09-03T00:00:00.000   Euthanasia     Rabies Risk       Other   \n",
       "\n",
       "  sex_upon_outcome age_upon_outcome                    breed  \\\n",
       "0    Spayed Female          4 years   Dachshund Wirehair Mix   \n",
       "1    Intact Female           2 days       Domestic Shorthair   \n",
       "2      Intact Male           1 year  Australian Shepherd Mix   \n",
       "3    Intact Female         2 months  Australian Shepherd Mix   \n",
       "4          Unknown             NULL                  Raccoon   \n",
       "\n",
       "              color  new_age1 new_sex1  \n",
       "0             Black   4 years   Female  \n",
       "1       White/Black    2 days   Female  \n",
       "2        Blue Merle   1 years     Male  \n",
       "3  Blue Merle/White  2 months   Female  \n",
       "4        Black/Gray      NULL  Unknown  "
      ]
     },
     "execution_count": 30,
     "metadata": {},
     "output_type": "execute_result"
    }
   ],
   "source": [
    "# To keep changes in DataFrame, overwrite the column\n",
    "animals_clean[['name']] = animals_only_names\n",
    "animals_clean.head()"
   ]
  },
  {
   "cell_type": "markdown",
   "metadata": {
    "heading_collapsed": true,
    "hidden": true
   },
   "source": [
    "## Fill with a Reasonable Value"
   ]
  },
  {
   "cell_type": "markdown",
   "metadata": {
    "hidden": true
   },
   "source": [
    "Other times we don't know what the missing value was but we might have a reasonable guess. This allows us to still use the data point (row) in our analysis."
   ]
  },
  {
   "cell_type": "markdown",
   "metadata": {
    "hidden": true
   },
   "source": [
    "> Beware that filling in missing values can lead to you drawing incorrect conclusions. If most of the data from a column are missing, it's going to appear that the value you filled it in with is more common that it actually was!"
   ]
  },
  {
   "cell_type": "markdown",
   "metadata": {
    "hidden": true
   },
   "source": [
    "A lot of the time we'll use the _mean_ or _median_ for numerical values. Sometimes values like $0$ make sense since it might make sense in the context of how the data was collected.\n",
    "\n",
    "With categorical values, you might choose to fill the missing values with the most common value (the *mode*)."
   ]
  },
  {
   "cell_type": "markdown",
   "metadata": {
    "hidden": true
   },
   "source": [
    "> Similar to the previous subsection, we can use the `fillna()` method after specifying the value to fill"
   ]
  },
  {
   "cell_type": "markdown",
   "metadata": {},
   "source": [
    "-*This is dangerous ground because we are fabricating data which might lead to a wrong conclusion*"
   ]
  },
  {
   "cell_type": "code",
   "execution_count": 31,
   "metadata": {
    "hidden": true
   },
   "outputs": [
    {
     "data": {
      "text/plain": [
       "Partner        190\n",
       "Foster         138\n",
       "Snr             21\n",
       "Suffering       13\n",
       "Rabies Risk     11\n",
       "Field            9\n",
       "Out State        7\n",
       "In Foster        4\n",
       "In Kennel        3\n",
       "Aggressive       2\n",
       "At Vet           1\n",
       "Medical          1\n",
       "Name: outcome_subtype, dtype: int64"
      ]
     },
     "execution_count": 31,
     "metadata": {},
     "output_type": "execute_result"
    }
   ],
   "source": [
    "## Let's find the most common value for `outcome_subtype`\n",
    "outcome_subtype_counts = animals['outcome_subtype'].value_counts()\n",
    "outcome_subtype_counts"
   ]
  },
  {
   "cell_type": "code",
   "execution_count": 32,
   "metadata": {
    "hidden": true
   },
   "outputs": [
    {
     "name": "stdout",
     "output_type": "stream",
     "text": [
      "Index(['Partner', 'Foster', 'Snr', 'Suffering', 'Rabies Risk', 'Field',\n",
      "       'Out State', 'In Foster', 'In Kennel', 'Aggressive', 'At Vet',\n",
      "       'Medical'],\n",
      "      dtype='object')\n"
     ]
    }
   ],
   "source": [
    "# This gets us just the values in order of most frequent to least frequent\n",
    "outcome_subtype_ordered = outcome_subtype_counts.index\n",
    "print(outcome_subtype_ordered)\n",
    "\n",
    "# Get the first one\n",
    "most_common_outcome_subtype = outcome_subtype_ordered[0]"
   ]
  },
  {
   "cell_type": "code",
   "execution_count": 33,
   "metadata": {},
   "outputs": [
    {
     "data": {
      "text/plain": [
       "'Partner'"
      ]
     },
     "execution_count": 33,
     "metadata": {},
     "output_type": "execute_result"
    }
   ],
   "source": [
    "most_common_outcome_subtype"
   ]
  },
  {
   "cell_type": "code",
   "execution_count": 34,
   "metadata": {},
   "outputs": [
    {
     "data": {
      "text/plain": [
       "0    Partner\n",
       "dtype: object"
      ]
     },
     "execution_count": 34,
     "metadata": {},
     "output_type": "execute_result"
    }
   ],
   "source": [
    "animals['outcome_subtype'].mode()"
   ]
  },
  {
   "cell_type": "code",
   "execution_count": 35,
   "metadata": {
    "hidden": true
   },
   "outputs": [
    {
     "data": {
      "text/plain": [
       "'Partner'"
      ]
     },
     "execution_count": 35,
     "metadata": {},
     "output_type": "execute_result"
    }
   ],
   "source": [
    "# Using the built-in mode() method\n",
    "# Note this is Series so we have to get the first element (which is the value)\n",
    "most_common_outcome_subtype = animals['outcome_subtype'].mode()[0]\n",
    "most_common_outcome_subtype"
   ]
  },
  {
   "cell_type": "code",
   "execution_count": 37,
   "metadata": {
    "hidden": true,
    "scrolled": true
   },
   "outputs": [
    {
     "data": {
      "text/html": [
       "<div>\n",
       "<style scoped>\n",
       "    .dataframe tbody tr th:only-of-type {\n",
       "        vertical-align: middle;\n",
       "    }\n",
       "\n",
       "    .dataframe tbody tr th {\n",
       "        vertical-align: top;\n",
       "    }\n",
       "\n",
       "    .dataframe thead th {\n",
       "        text-align: right;\n",
       "    }\n",
       "</style>\n",
       "<table border=\"1\" class=\"dataframe\">\n",
       "  <thead>\n",
       "    <tr style=\"text-align: right;\">\n",
       "      <th></th>\n",
       "      <th>animal_id</th>\n",
       "      <th>name</th>\n",
       "      <th>datetime</th>\n",
       "      <th>monthyear</th>\n",
       "      <th>date_of_birth</th>\n",
       "      <th>outcome_type</th>\n",
       "      <th>outcome_subtype</th>\n",
       "      <th>animal_type</th>\n",
       "      <th>sex_upon_outcome</th>\n",
       "      <th>age_upon_outcome</th>\n",
       "      <th>breed</th>\n",
       "      <th>color</th>\n",
       "      <th>new_age1</th>\n",
       "      <th>new_sex1</th>\n",
       "    </tr>\n",
       "  </thead>\n",
       "  <tbody>\n",
       "    <tr>\n",
       "      <th>0</th>\n",
       "      <td>A740038</td>\n",
       "      <td>*Pearl</td>\n",
       "      <td>2021-09-03 11:26:00</td>\n",
       "      <td>2021-09-03T11:26:00.000</td>\n",
       "      <td>2016-10-10T00:00:00.000</td>\n",
       "      <td>Transfer</td>\n",
       "      <td>Partner</td>\n",
       "      <td>Dog</td>\n",
       "      <td>Spayed Female</td>\n",
       "      <td>4 years</td>\n",
       "      <td>Dachshund Wirehair Mix</td>\n",
       "      <td>Black</td>\n",
       "      <td>4 years</td>\n",
       "      <td>Female</td>\n",
       "    </tr>\n",
       "    <tr>\n",
       "      <th>1</th>\n",
       "      <td>A841793</td>\n",
       "      <td>73 Grams</td>\n",
       "      <td>2021-09-03 11:11:00</td>\n",
       "      <td>2021-09-03T11:11:00.000</td>\n",
       "      <td>2021-09-01T00:00:00.000</td>\n",
       "      <td>Transfer</td>\n",
       "      <td>Partner</td>\n",
       "      <td>Cat</td>\n",
       "      <td>Intact Female</td>\n",
       "      <td>2 days</td>\n",
       "      <td>Domestic Shorthair</td>\n",
       "      <td>White/Black</td>\n",
       "      <td>2 days</td>\n",
       "      <td>Female</td>\n",
       "    </tr>\n",
       "    <tr>\n",
       "      <th>2</th>\n",
       "      <td>A841589</td>\n",
       "      <td>A841589</td>\n",
       "      <td>2021-09-03 11:04:00</td>\n",
       "      <td>2021-09-03T11:04:00.000</td>\n",
       "      <td>2020-08-30T00:00:00.000</td>\n",
       "      <td>Transfer</td>\n",
       "      <td>Partner</td>\n",
       "      <td>Dog</td>\n",
       "      <td>Intact Male</td>\n",
       "      <td>1 year</td>\n",
       "      <td>Australian Shepherd Mix</td>\n",
       "      <td>Blue Merle</td>\n",
       "      <td>1 years</td>\n",
       "      <td>Male</td>\n",
       "    </tr>\n",
       "    <tr>\n",
       "      <th>3</th>\n",
       "      <td>A841558</td>\n",
       "      <td>A841558</td>\n",
       "      <td>2021-09-03 11:04:00</td>\n",
       "      <td>2021-09-03T11:04:00.000</td>\n",
       "      <td>2021-06-30T00:00:00.000</td>\n",
       "      <td>Transfer</td>\n",
       "      <td>Partner</td>\n",
       "      <td>Dog</td>\n",
       "      <td>Intact Female</td>\n",
       "      <td>2 months</td>\n",
       "      <td>Australian Shepherd Mix</td>\n",
       "      <td>Blue Merle/White</td>\n",
       "      <td>2 months</td>\n",
       "      <td>Female</td>\n",
       "    </tr>\n",
       "    <tr>\n",
       "      <th>4</th>\n",
       "      <td>A841797</td>\n",
       "      <td>UNKNOWN</td>\n",
       "      <td>2021-09-03 10:25:00</td>\n",
       "      <td>2021-09-03T10:25:00.000</td>\n",
       "      <td>2019-09-03T00:00:00.000</td>\n",
       "      <td>Euthanasia</td>\n",
       "      <td>Rabies Risk</td>\n",
       "      <td>Other</td>\n",
       "      <td>Unknown</td>\n",
       "      <td>NULL</td>\n",
       "      <td>Raccoon</td>\n",
       "      <td>Black/Gray</td>\n",
       "      <td>NULL</td>\n",
       "      <td>Unknown</td>\n",
       "    </tr>\n",
       "  </tbody>\n",
       "</table>\n",
       "</div>"
      ],
      "text/plain": [
       "  animal_id      name            datetime                monthyear  \\\n",
       "0   A740038    *Pearl 2021-09-03 11:26:00  2021-09-03T11:26:00.000   \n",
       "1   A841793  73 Grams 2021-09-03 11:11:00  2021-09-03T11:11:00.000   \n",
       "2   A841589   A841589 2021-09-03 11:04:00  2021-09-03T11:04:00.000   \n",
       "3   A841558   A841558 2021-09-03 11:04:00  2021-09-03T11:04:00.000   \n",
       "4   A841797   UNKNOWN 2021-09-03 10:25:00  2021-09-03T10:25:00.000   \n",
       "\n",
       "             date_of_birth outcome_type outcome_subtype animal_type  \\\n",
       "0  2016-10-10T00:00:00.000     Transfer         Partner         Dog   \n",
       "1  2021-09-01T00:00:00.000     Transfer         Partner         Cat   \n",
       "2  2020-08-30T00:00:00.000     Transfer         Partner         Dog   \n",
       "3  2021-06-30T00:00:00.000     Transfer         Partner         Dog   \n",
       "4  2019-09-03T00:00:00.000   Euthanasia     Rabies Risk       Other   \n",
       "\n",
       "  sex_upon_outcome age_upon_outcome                    breed  \\\n",
       "0    Spayed Female          4 years   Dachshund Wirehair Mix   \n",
       "1    Intact Female           2 days       Domestic Shorthair   \n",
       "2      Intact Male           1 year  Australian Shepherd Mix   \n",
       "3    Intact Female         2 months  Australian Shepherd Mix   \n",
       "4          Unknown             NULL                  Raccoon   \n",
       "\n",
       "              color  new_age1 new_sex1  \n",
       "0             Black   4 years   Female  \n",
       "1       White/Black    2 days   Female  \n",
       "2        Blue Merle   1 years     Male  \n",
       "3  Blue Merle/White  2 months   Female  \n",
       "4        Black/Gray      NULL  Unknown  "
      ]
     },
     "execution_count": 37,
     "metadata": {},
     "output_type": "execute_result"
    }
   ],
   "source": [
    "# Similar to the previous subsection, we can use fillna() and update the DF\n",
    "animals_clean['outcome_subtype'] = animals['outcome_subtype']\\\n",
    ".fillna(most_common_outcome_subtype)\n",
    "animals_clean.head()\n",
    "\n",
    "#the \\ (backslash) is used to continue the line of code to the next line on the screen\n",
    "#animals_clean['outcome_subtype'] = animals['outcome_subtype'].fillna(most_common_outcome_subtype)"
   ]
  },
  {
   "cell_type": "markdown",
   "metadata": {
    "heading_collapsed": true,
    "hidden": true
   },
   "source": [
    "## Specify That the Data Were Missing"
   ]
  },
  {
   "cell_type": "markdown",
   "metadata": {
    "hidden": true
   },
   "source": [
    "Even after filling in missing values, it might make sense to specify that there were missing data. You can document that the data was missing by creating a new column that represents whether the data was originally missing or not."
   ]
  },
  {
   "cell_type": "markdown",
   "metadata": {
    "hidden": true
   },
   "source": [
    "This can be helpful when you suspect that the fact the data was missing could be important for an analysis."
   ]
  },
  {
   "cell_type": "markdown",
   "metadata": {
    "hidden": true
   },
   "source": [
    "> Since we already removed some missing values, we're going to reference back to the original `animals` DataFrame. (Good thing we didn't overwrite it! 😉)"
   ]
  },
  {
   "cell_type": "code",
   "execution_count": 38,
   "metadata": {
    "hidden": true
   },
   "outputs": [
    {
     "data": {
      "text/plain": [
       "0      False\n",
       "1      False\n",
       "2      False\n",
       "3      False\n",
       "4      False\n",
       "       ...  \n",
       "995    False\n",
       "996    False\n",
       "997     True\n",
       "998    False\n",
       "999    False\n",
       "Name: outcome_subtype, Length: 1000, dtype: bool"
      ]
     },
     "execution_count": 38,
     "metadata": {},
     "output_type": "execute_result"
    }
   ],
   "source": [
    "# Let's specify which values were originally missing in \"outcome_subtype\"\n",
    "missing_outcome_subtypes = animals['outcome_subtype'].isna()\n",
    "missing_outcome_subtypes"
   ]
  },
  {
   "cell_type": "code",
   "execution_count": 39,
   "metadata": {
    "hidden": true
   },
   "outputs": [
    {
     "data": {
      "text/html": [
       "<div>\n",
       "<style scoped>\n",
       "    .dataframe tbody tr th:only-of-type {\n",
       "        vertical-align: middle;\n",
       "    }\n",
       "\n",
       "    .dataframe tbody tr th {\n",
       "        vertical-align: top;\n",
       "    }\n",
       "\n",
       "    .dataframe thead th {\n",
       "        text-align: right;\n",
       "    }\n",
       "</style>\n",
       "<table border=\"1\" class=\"dataframe\">\n",
       "  <thead>\n",
       "    <tr style=\"text-align: right;\">\n",
       "      <th></th>\n",
       "      <th>animal_id</th>\n",
       "      <th>name</th>\n",
       "      <th>datetime</th>\n",
       "      <th>monthyear</th>\n",
       "      <th>date_of_birth</th>\n",
       "      <th>outcome_type</th>\n",
       "      <th>outcome_subtype</th>\n",
       "      <th>animal_type</th>\n",
       "      <th>sex_upon_outcome</th>\n",
       "      <th>age_upon_outcome</th>\n",
       "      <th>breed</th>\n",
       "      <th>color</th>\n",
       "      <th>new_age1</th>\n",
       "      <th>new_sex1</th>\n",
       "      <th>outcome_subtype_missing</th>\n",
       "    </tr>\n",
       "  </thead>\n",
       "  <tbody>\n",
       "    <tr>\n",
       "      <th>0</th>\n",
       "      <td>A740038</td>\n",
       "      <td>*Pearl</td>\n",
       "      <td>2021-09-03 11:26:00</td>\n",
       "      <td>2021-09-03T11:26:00.000</td>\n",
       "      <td>2016-10-10T00:00:00.000</td>\n",
       "      <td>Transfer</td>\n",
       "      <td>Partner</td>\n",
       "      <td>Dog</td>\n",
       "      <td>Spayed Female</td>\n",
       "      <td>4 years</td>\n",
       "      <td>Dachshund Wirehair Mix</td>\n",
       "      <td>Black</td>\n",
       "      <td>4 years</td>\n",
       "      <td>Female</td>\n",
       "      <td>False</td>\n",
       "    </tr>\n",
       "    <tr>\n",
       "      <th>1</th>\n",
       "      <td>A841793</td>\n",
       "      <td>73 Grams</td>\n",
       "      <td>2021-09-03 11:11:00</td>\n",
       "      <td>2021-09-03T11:11:00.000</td>\n",
       "      <td>2021-09-01T00:00:00.000</td>\n",
       "      <td>Transfer</td>\n",
       "      <td>Partner</td>\n",
       "      <td>Cat</td>\n",
       "      <td>Intact Female</td>\n",
       "      <td>2 days</td>\n",
       "      <td>Domestic Shorthair</td>\n",
       "      <td>White/Black</td>\n",
       "      <td>2 days</td>\n",
       "      <td>Female</td>\n",
       "      <td>False</td>\n",
       "    </tr>\n",
       "    <tr>\n",
       "      <th>2</th>\n",
       "      <td>A841589</td>\n",
       "      <td>A841589</td>\n",
       "      <td>2021-09-03 11:04:00</td>\n",
       "      <td>2021-09-03T11:04:00.000</td>\n",
       "      <td>2020-08-30T00:00:00.000</td>\n",
       "      <td>Transfer</td>\n",
       "      <td>Partner</td>\n",
       "      <td>Dog</td>\n",
       "      <td>Intact Male</td>\n",
       "      <td>1 year</td>\n",
       "      <td>Australian Shepherd Mix</td>\n",
       "      <td>Blue Merle</td>\n",
       "      <td>1 years</td>\n",
       "      <td>Male</td>\n",
       "      <td>False</td>\n",
       "    </tr>\n",
       "    <tr>\n",
       "      <th>3</th>\n",
       "      <td>A841558</td>\n",
       "      <td>A841558</td>\n",
       "      <td>2021-09-03 11:04:00</td>\n",
       "      <td>2021-09-03T11:04:00.000</td>\n",
       "      <td>2021-06-30T00:00:00.000</td>\n",
       "      <td>Transfer</td>\n",
       "      <td>Partner</td>\n",
       "      <td>Dog</td>\n",
       "      <td>Intact Female</td>\n",
       "      <td>2 months</td>\n",
       "      <td>Australian Shepherd Mix</td>\n",
       "      <td>Blue Merle/White</td>\n",
       "      <td>2 months</td>\n",
       "      <td>Female</td>\n",
       "      <td>False</td>\n",
       "    </tr>\n",
       "    <tr>\n",
       "      <th>4</th>\n",
       "      <td>A841797</td>\n",
       "      <td>UNKNOWN</td>\n",
       "      <td>2021-09-03 10:25:00</td>\n",
       "      <td>2021-09-03T10:25:00.000</td>\n",
       "      <td>2019-09-03T00:00:00.000</td>\n",
       "      <td>Euthanasia</td>\n",
       "      <td>Rabies Risk</td>\n",
       "      <td>Other</td>\n",
       "      <td>Unknown</td>\n",
       "      <td>NULL</td>\n",
       "      <td>Raccoon</td>\n",
       "      <td>Black/Gray</td>\n",
       "      <td>NULL</td>\n",
       "      <td>Unknown</td>\n",
       "      <td>False</td>\n",
       "    </tr>\n",
       "  </tbody>\n",
       "</table>\n",
       "</div>"
      ],
      "text/plain": [
       "  animal_id      name            datetime                monthyear  \\\n",
       "0   A740038    *Pearl 2021-09-03 11:26:00  2021-09-03T11:26:00.000   \n",
       "1   A841793  73 Grams 2021-09-03 11:11:00  2021-09-03T11:11:00.000   \n",
       "2   A841589   A841589 2021-09-03 11:04:00  2021-09-03T11:04:00.000   \n",
       "3   A841558   A841558 2021-09-03 11:04:00  2021-09-03T11:04:00.000   \n",
       "4   A841797   UNKNOWN 2021-09-03 10:25:00  2021-09-03T10:25:00.000   \n",
       "\n",
       "             date_of_birth outcome_type outcome_subtype animal_type  \\\n",
       "0  2016-10-10T00:00:00.000     Transfer         Partner         Dog   \n",
       "1  2021-09-01T00:00:00.000     Transfer         Partner         Cat   \n",
       "2  2020-08-30T00:00:00.000     Transfer         Partner         Dog   \n",
       "3  2021-06-30T00:00:00.000     Transfer         Partner         Dog   \n",
       "4  2019-09-03T00:00:00.000   Euthanasia     Rabies Risk       Other   \n",
       "\n",
       "  sex_upon_outcome age_upon_outcome                    breed  \\\n",
       "0    Spayed Female          4 years   Dachshund Wirehair Mix   \n",
       "1    Intact Female           2 days       Domestic Shorthair   \n",
       "2      Intact Male           1 year  Australian Shepherd Mix   \n",
       "3    Intact Female         2 months  Australian Shepherd Mix   \n",
       "4          Unknown             NULL                  Raccoon   \n",
       "\n",
       "              color  new_age1 new_sex1  outcome_subtype_missing  \n",
       "0             Black   4 years   Female                    False  \n",
       "1       White/Black    2 days   Female                    False  \n",
       "2        Blue Merle   1 years     Male                    False  \n",
       "3  Blue Merle/White  2 months   Female                    False  \n",
       "4        Black/Gray      NULL  Unknown                    False  "
      ]
     },
     "execution_count": 39,
     "metadata": {},
     "output_type": "execute_result"
    }
   ],
   "source": [
    "# Create new column for missing outcome subtypes matched w/ replaced values\n",
    "animals_clean['outcome_subtype_missing'] = missing_outcome_subtypes\n",
    "animals_clean.head()"
   ]
  },
  {
   "cell_type": "markdown",
   "metadata": {
    "heading_collapsed": true,
    "hidden": true
   },
   "source": [
    "## Drop Missing Data"
   ]
  },
  {
   "cell_type": "markdown",
   "metadata": {
    "hidden": true
   },
   "source": [
    "You should try to keep as much relevant data as possible, but sometimes the other methods don't make as much sense and it's better to remove or **drop** the missing data."
   ]
  },
  {
   "cell_type": "markdown",
   "metadata": {
    "hidden": true
   },
   "source": [
    "We typically drop missing data if very little data would be lost and/or trying to fill in the values wouldn't make sense for our use case. For example, if you're trying to predict the outcome based on the other features/columns it might not make sense to fill in those missing values with something you can't confirm."
   ]
  },
  {
   "cell_type": "markdown",
   "metadata": {
    "hidden": true
   },
   "source": [
    "> We noticed that `outcome_type` had only a few missing values. It might not be worth trying to handle those few missing values. We can pretend that the `outcome_type` was an important feature and without it the rest of the row's data is of little importance to us.\n",
    ">\n",
    "> So we'll decide to drop the row if a value from `outcome_type` is missing. We'll use Pandas' [`dropna()` method](https://pandas.pydata.org/pandas-docs/stable/reference/api/pandas.DataFrame.dropna.html)."
   ]
  },
  {
   "cell_type": "code",
   "execution_count": 40,
   "metadata": {},
   "outputs": [
    {
     "data": {
      "text/plain": [
       "999"
      ]
     },
     "execution_count": 40,
     "metadata": {},
     "output_type": "execute_result"
    }
   ],
   "source": [
    "animals_clean['outcome_type'].value_counts().sum()"
   ]
  },
  {
   "cell_type": "code",
   "execution_count": 41,
   "metadata": {
    "hidden": true
   },
   "outputs": [
    {
     "data": {
      "text/html": [
       "<div>\n",
       "<style scoped>\n",
       "    .dataframe tbody tr th:only-of-type {\n",
       "        vertical-align: middle;\n",
       "    }\n",
       "\n",
       "    .dataframe tbody tr th {\n",
       "        vertical-align: top;\n",
       "    }\n",
       "\n",
       "    .dataframe thead th {\n",
       "        text-align: right;\n",
       "    }\n",
       "</style>\n",
       "<table border=\"1\" class=\"dataframe\">\n",
       "  <thead>\n",
       "    <tr style=\"text-align: right;\">\n",
       "      <th></th>\n",
       "      <th>animal_id</th>\n",
       "      <th>name</th>\n",
       "      <th>datetime</th>\n",
       "      <th>monthyear</th>\n",
       "      <th>date_of_birth</th>\n",
       "      <th>outcome_type</th>\n",
       "      <th>outcome_subtype</th>\n",
       "      <th>animal_type</th>\n",
       "      <th>sex_upon_outcome</th>\n",
       "      <th>age_upon_outcome</th>\n",
       "      <th>breed</th>\n",
       "      <th>color</th>\n",
       "      <th>new_age1</th>\n",
       "      <th>new_sex1</th>\n",
       "      <th>outcome_subtype_missing</th>\n",
       "    </tr>\n",
       "  </thead>\n",
       "  <tbody>\n",
       "    <tr>\n",
       "      <th>0</th>\n",
       "      <td>A740038</td>\n",
       "      <td>*Pearl</td>\n",
       "      <td>2021-09-03 11:26:00</td>\n",
       "      <td>2021-09-03T11:26:00.000</td>\n",
       "      <td>2016-10-10T00:00:00.000</td>\n",
       "      <td>Transfer</td>\n",
       "      <td>Partner</td>\n",
       "      <td>Dog</td>\n",
       "      <td>Spayed Female</td>\n",
       "      <td>4 years</td>\n",
       "      <td>Dachshund Wirehair Mix</td>\n",
       "      <td>Black</td>\n",
       "      <td>4 years</td>\n",
       "      <td>Female</td>\n",
       "      <td>False</td>\n",
       "    </tr>\n",
       "    <tr>\n",
       "      <th>1</th>\n",
       "      <td>A841793</td>\n",
       "      <td>73 Grams</td>\n",
       "      <td>2021-09-03 11:11:00</td>\n",
       "      <td>2021-09-03T11:11:00.000</td>\n",
       "      <td>2021-09-01T00:00:00.000</td>\n",
       "      <td>Transfer</td>\n",
       "      <td>Partner</td>\n",
       "      <td>Cat</td>\n",
       "      <td>Intact Female</td>\n",
       "      <td>2 days</td>\n",
       "      <td>Domestic Shorthair</td>\n",
       "      <td>White/Black</td>\n",
       "      <td>2 days</td>\n",
       "      <td>Female</td>\n",
       "      <td>False</td>\n",
       "    </tr>\n",
       "    <tr>\n",
       "      <th>2</th>\n",
       "      <td>A841589</td>\n",
       "      <td>A841589</td>\n",
       "      <td>2021-09-03 11:04:00</td>\n",
       "      <td>2021-09-03T11:04:00.000</td>\n",
       "      <td>2020-08-30T00:00:00.000</td>\n",
       "      <td>Transfer</td>\n",
       "      <td>Partner</td>\n",
       "      <td>Dog</td>\n",
       "      <td>Intact Male</td>\n",
       "      <td>1 year</td>\n",
       "      <td>Australian Shepherd Mix</td>\n",
       "      <td>Blue Merle</td>\n",
       "      <td>1 years</td>\n",
       "      <td>Male</td>\n",
       "      <td>False</td>\n",
       "    </tr>\n",
       "    <tr>\n",
       "      <th>3</th>\n",
       "      <td>A841558</td>\n",
       "      <td>A841558</td>\n",
       "      <td>2021-09-03 11:04:00</td>\n",
       "      <td>2021-09-03T11:04:00.000</td>\n",
       "      <td>2021-06-30T00:00:00.000</td>\n",
       "      <td>Transfer</td>\n",
       "      <td>Partner</td>\n",
       "      <td>Dog</td>\n",
       "      <td>Intact Female</td>\n",
       "      <td>2 months</td>\n",
       "      <td>Australian Shepherd Mix</td>\n",
       "      <td>Blue Merle/White</td>\n",
       "      <td>2 months</td>\n",
       "      <td>Female</td>\n",
       "      <td>False</td>\n",
       "    </tr>\n",
       "    <tr>\n",
       "      <th>4</th>\n",
       "      <td>A841797</td>\n",
       "      <td>UNKNOWN</td>\n",
       "      <td>2021-09-03 10:25:00</td>\n",
       "      <td>2021-09-03T10:25:00.000</td>\n",
       "      <td>2019-09-03T00:00:00.000</td>\n",
       "      <td>Euthanasia</td>\n",
       "      <td>Rabies Risk</td>\n",
       "      <td>Other</td>\n",
       "      <td>Unknown</td>\n",
       "      <td>NULL</td>\n",
       "      <td>Raccoon</td>\n",
       "      <td>Black/Gray</td>\n",
       "      <td>NULL</td>\n",
       "      <td>Unknown</td>\n",
       "      <td>False</td>\n",
       "    </tr>\n",
       "  </tbody>\n",
       "</table>\n",
       "</div>"
      ],
      "text/plain": [
       "  animal_id      name            datetime                monthyear  \\\n",
       "0   A740038    *Pearl 2021-09-03 11:26:00  2021-09-03T11:26:00.000   \n",
       "1   A841793  73 Grams 2021-09-03 11:11:00  2021-09-03T11:11:00.000   \n",
       "2   A841589   A841589 2021-09-03 11:04:00  2021-09-03T11:04:00.000   \n",
       "3   A841558   A841558 2021-09-03 11:04:00  2021-09-03T11:04:00.000   \n",
       "4   A841797   UNKNOWN 2021-09-03 10:25:00  2021-09-03T10:25:00.000   \n",
       "\n",
       "             date_of_birth outcome_type outcome_subtype animal_type  \\\n",
       "0  2016-10-10T00:00:00.000     Transfer         Partner         Dog   \n",
       "1  2021-09-01T00:00:00.000     Transfer         Partner         Cat   \n",
       "2  2020-08-30T00:00:00.000     Transfer         Partner         Dog   \n",
       "3  2021-06-30T00:00:00.000     Transfer         Partner         Dog   \n",
       "4  2019-09-03T00:00:00.000   Euthanasia     Rabies Risk       Other   \n",
       "\n",
       "  sex_upon_outcome age_upon_outcome                    breed  \\\n",
       "0    Spayed Female          4 years   Dachshund Wirehair Mix   \n",
       "1    Intact Female           2 days       Domestic Shorthair   \n",
       "2      Intact Male           1 year  Australian Shepherd Mix   \n",
       "3    Intact Female         2 months  Australian Shepherd Mix   \n",
       "4          Unknown             NULL                  Raccoon   \n",
       "\n",
       "              color  new_age1 new_sex1  outcome_subtype_missing  \n",
       "0             Black   4 years   Female                    False  \n",
       "1       White/Black    2 days   Female                    False  \n",
       "2        Blue Merle   1 years     Male                    False  \n",
       "3  Blue Merle/White  2 months   Female                    False  \n",
       "4        Black/Gray      NULL  Unknown                    False  "
      ]
     },
     "execution_count": 41,
     "metadata": {},
     "output_type": "execute_result"
    }
   ],
   "source": [
    "# This will drop any row (axis=0) or column (axis=1) that has missing values\n",
    "animals_clean = animals_clean.dropna(   # Note we're overwriting animals_clean\n",
    "                                axis=0, # This is the default & will drop rows; axis=1 for cols\n",
    "                                subset=['outcome_type'] # Specific labels to consider (defaults to all)\n",
    ")\n",
    "animals_clean.head()"
   ]
  },
  {
   "cell_type": "markdown",
   "metadata": {
    "heading_collapsed": true,
    "hidden": true
   },
   "source": [
    "## Comparing Before and After"
   ]
  },
  {
   "cell_type": "markdown",
   "metadata": {
    "hidden": true
   },
   "source": [
    "We can now see all the work we did!"
   ]
  },
  {
   "cell_type": "code",
   "execution_count": 43,
   "metadata": {
    "hidden": true
   },
   "outputs": [
    {
     "name": "stdout",
     "output_type": "stream",
     "text": [
      "<class 'pandas.core.frame.DataFrame'>\n",
      "RangeIndex: 1000 entries, 0 to 999\n",
      "Data columns (total 14 columns):\n",
      " #   Column            Non-Null Count  Dtype         \n",
      "---  ------            --------------  -----         \n",
      " 0   animal_id         1000 non-null   object        \n",
      " 1   name              901 non-null    object        \n",
      " 2   datetime          1000 non-null   datetime64[ns]\n",
      " 3   monthyear         1000 non-null   object        \n",
      " 4   date_of_birth     1000 non-null   object        \n",
      " 5   outcome_type      999 non-null    object        \n",
      " 6   outcome_subtype   400 non-null    object        \n",
      " 7   animal_type       1000 non-null   object        \n",
      " 8   sex_upon_outcome  1000 non-null   object        \n",
      " 9   age_upon_outcome  1000 non-null   object        \n",
      " 10  breed             1000 non-null   object        \n",
      " 11  color             1000 non-null   object        \n",
      " 12  new_age1          1000 non-null   object        \n",
      " 13  new_sex1          1000 non-null   object        \n",
      "dtypes: datetime64[ns](1), object(13)\n",
      "memory usage: 109.5+ KB\n"
     ]
    }
   ],
   "source": [
    "# Original data\n",
    "animals.info()"
   ]
  },
  {
   "cell_type": "code",
   "execution_count": 44,
   "metadata": {
    "hidden": true
   },
   "outputs": [
    {
     "name": "stdout",
     "output_type": "stream",
     "text": [
      "<class 'pandas.core.frame.DataFrame'>\n",
      "Int64Index: 999 entries, 0 to 999\n",
      "Data columns (total 15 columns):\n",
      " #   Column                   Non-Null Count  Dtype         \n",
      "---  ------                   --------------  -----         \n",
      " 0   animal_id                999 non-null    object        \n",
      " 1   name                     999 non-null    object        \n",
      " 2   datetime                 999 non-null    datetime64[ns]\n",
      " 3   monthyear                999 non-null    object        \n",
      " 4   date_of_birth            999 non-null    object        \n",
      " 5   outcome_type             999 non-null    object        \n",
      " 6   outcome_subtype          999 non-null    object        \n",
      " 7   animal_type              999 non-null    object        \n",
      " 8   sex_upon_outcome         999 non-null    object        \n",
      " 9   age_upon_outcome         999 non-null    object        \n",
      " 10  breed                    999 non-null    object        \n",
      " 11  color                    999 non-null    object        \n",
      " 12  new_age1                 999 non-null    object        \n",
      " 13  new_sex1                 999 non-null    object        \n",
      " 14  outcome_subtype_missing  999 non-null    bool          \n",
      "dtypes: bool(1), datetime64[ns](1), object(13)\n",
      "memory usage: 118.0+ KB\n"
     ]
    }
   ],
   "source": [
    "# Missing data cleaned\n",
    "animals_clean.info()"
   ]
  },
  {
   "cell_type": "code",
   "execution_count": 45,
   "metadata": {},
   "outputs": [
    {
     "data": {
      "text/html": [
       "<div>\n",
       "<style scoped>\n",
       "    .dataframe tbody tr th:only-of-type {\n",
       "        vertical-align: middle;\n",
       "    }\n",
       "\n",
       "    .dataframe tbody tr th {\n",
       "        vertical-align: top;\n",
       "    }\n",
       "\n",
       "    .dataframe thead th {\n",
       "        text-align: right;\n",
       "    }\n",
       "</style>\n",
       "<table border=\"1\" class=\"dataframe\">\n",
       "  <thead>\n",
       "    <tr style=\"text-align: right;\">\n",
       "      <th></th>\n",
       "      <th>index</th>\n",
       "      <th>animal_id</th>\n",
       "      <th>name</th>\n",
       "      <th>datetime</th>\n",
       "      <th>monthyear</th>\n",
       "      <th>date_of_birth</th>\n",
       "      <th>outcome_type</th>\n",
       "      <th>outcome_subtype</th>\n",
       "      <th>animal_type</th>\n",
       "      <th>sex_upon_outcome</th>\n",
       "      <th>age_upon_outcome</th>\n",
       "      <th>breed</th>\n",
       "      <th>color</th>\n",
       "      <th>new_age1</th>\n",
       "      <th>new_sex1</th>\n",
       "      <th>outcome_subtype_missing</th>\n",
       "    </tr>\n",
       "  </thead>\n",
       "  <tbody>\n",
       "    <tr>\n",
       "      <th>0</th>\n",
       "      <td>0</td>\n",
       "      <td>A740038</td>\n",
       "      <td>*Pearl</td>\n",
       "      <td>2021-09-03 11:26:00</td>\n",
       "      <td>2021-09-03T11:26:00.000</td>\n",
       "      <td>2016-10-10T00:00:00.000</td>\n",
       "      <td>Transfer</td>\n",
       "      <td>Partner</td>\n",
       "      <td>Dog</td>\n",
       "      <td>Spayed Female</td>\n",
       "      <td>4 years</td>\n",
       "      <td>Dachshund Wirehair Mix</td>\n",
       "      <td>Black</td>\n",
       "      <td>4 years</td>\n",
       "      <td>Female</td>\n",
       "      <td>False</td>\n",
       "    </tr>\n",
       "    <tr>\n",
       "      <th>1</th>\n",
       "      <td>1</td>\n",
       "      <td>A841793</td>\n",
       "      <td>73 Grams</td>\n",
       "      <td>2021-09-03 11:11:00</td>\n",
       "      <td>2021-09-03T11:11:00.000</td>\n",
       "      <td>2021-09-01T00:00:00.000</td>\n",
       "      <td>Transfer</td>\n",
       "      <td>Partner</td>\n",
       "      <td>Cat</td>\n",
       "      <td>Intact Female</td>\n",
       "      <td>2 days</td>\n",
       "      <td>Domestic Shorthair</td>\n",
       "      <td>White/Black</td>\n",
       "      <td>2 days</td>\n",
       "      <td>Female</td>\n",
       "      <td>False</td>\n",
       "    </tr>\n",
       "    <tr>\n",
       "      <th>2</th>\n",
       "      <td>2</td>\n",
       "      <td>A841589</td>\n",
       "      <td>A841589</td>\n",
       "      <td>2021-09-03 11:04:00</td>\n",
       "      <td>2021-09-03T11:04:00.000</td>\n",
       "      <td>2020-08-30T00:00:00.000</td>\n",
       "      <td>Transfer</td>\n",
       "      <td>Partner</td>\n",
       "      <td>Dog</td>\n",
       "      <td>Intact Male</td>\n",
       "      <td>1 year</td>\n",
       "      <td>Australian Shepherd Mix</td>\n",
       "      <td>Blue Merle</td>\n",
       "      <td>1 years</td>\n",
       "      <td>Male</td>\n",
       "      <td>False</td>\n",
       "    </tr>\n",
       "    <tr>\n",
       "      <th>3</th>\n",
       "      <td>3</td>\n",
       "      <td>A841558</td>\n",
       "      <td>A841558</td>\n",
       "      <td>2021-09-03 11:04:00</td>\n",
       "      <td>2021-09-03T11:04:00.000</td>\n",
       "      <td>2021-06-30T00:00:00.000</td>\n",
       "      <td>Transfer</td>\n",
       "      <td>Partner</td>\n",
       "      <td>Dog</td>\n",
       "      <td>Intact Female</td>\n",
       "      <td>2 months</td>\n",
       "      <td>Australian Shepherd Mix</td>\n",
       "      <td>Blue Merle/White</td>\n",
       "      <td>2 months</td>\n",
       "      <td>Female</td>\n",
       "      <td>False</td>\n",
       "    </tr>\n",
       "    <tr>\n",
       "      <th>4</th>\n",
       "      <td>4</td>\n",
       "      <td>A841797</td>\n",
       "      <td>UNKNOWN</td>\n",
       "      <td>2021-09-03 10:25:00</td>\n",
       "      <td>2021-09-03T10:25:00.000</td>\n",
       "      <td>2019-09-03T00:00:00.000</td>\n",
       "      <td>Euthanasia</td>\n",
       "      <td>Rabies Risk</td>\n",
       "      <td>Other</td>\n",
       "      <td>Unknown</td>\n",
       "      <td>NULL</td>\n",
       "      <td>Raccoon</td>\n",
       "      <td>Black/Gray</td>\n",
       "      <td>NULL</td>\n",
       "      <td>Unknown</td>\n",
       "      <td>False</td>\n",
       "    </tr>\n",
       "    <tr>\n",
       "      <th>...</th>\n",
       "      <td>...</td>\n",
       "      <td>...</td>\n",
       "      <td>...</td>\n",
       "      <td>...</td>\n",
       "      <td>...</td>\n",
       "      <td>...</td>\n",
       "      <td>...</td>\n",
       "      <td>...</td>\n",
       "      <td>...</td>\n",
       "      <td>...</td>\n",
       "      <td>...</td>\n",
       "      <td>...</td>\n",
       "      <td>...</td>\n",
       "      <td>...</td>\n",
       "      <td>...</td>\n",
       "      <td>...</td>\n",
       "    </tr>\n",
       "    <tr>\n",
       "      <th>994</th>\n",
       "      <td>995</td>\n",
       "      <td>A722704</td>\n",
       "      <td>Kano</td>\n",
       "      <td>2021-08-10 13:46:00</td>\n",
       "      <td>2021-08-10T13:46:00.000</td>\n",
       "      <td>2015-03-21T00:00:00.000</td>\n",
       "      <td>Transfer</td>\n",
       "      <td>Partner</td>\n",
       "      <td>Dog</td>\n",
       "      <td>Neutered Male</td>\n",
       "      <td>6 years</td>\n",
       "      <td>Pit Bull Mix</td>\n",
       "      <td>Fawn/White</td>\n",
       "      <td>6 years</td>\n",
       "      <td>Male</td>\n",
       "      <td>False</td>\n",
       "    </tr>\n",
       "    <tr>\n",
       "      <th>995</th>\n",
       "      <td>996</td>\n",
       "      <td>A840342</td>\n",
       "      <td>A840342</td>\n",
       "      <td>2021-08-10 13:08:00</td>\n",
       "      <td>2021-08-10T13:08:00.000</td>\n",
       "      <td>2014-08-08T00:00:00.000</td>\n",
       "      <td>Transfer</td>\n",
       "      <td>Partner</td>\n",
       "      <td>Dog</td>\n",
       "      <td>Intact Female</td>\n",
       "      <td>7 years</td>\n",
       "      <td>Chihuahua Shorthair</td>\n",
       "      <td>Tan</td>\n",
       "      <td>7 years</td>\n",
       "      <td>Female</td>\n",
       "      <td>False</td>\n",
       "    </tr>\n",
       "    <tr>\n",
       "      <th>996</th>\n",
       "      <td>997</td>\n",
       "      <td>A840048</td>\n",
       "      <td>*Ivy</td>\n",
       "      <td>2021-08-10 12:28:00</td>\n",
       "      <td>2021-08-10T12:28:00.000</td>\n",
       "      <td>2019-08-01T00:00:00.000</td>\n",
       "      <td>Adoption</td>\n",
       "      <td>Partner</td>\n",
       "      <td>Dog</td>\n",
       "      <td>Spayed Female</td>\n",
       "      <td>2 years</td>\n",
       "      <td>Australian Shepherd Mix</td>\n",
       "      <td>Tricolor</td>\n",
       "      <td>2 years</td>\n",
       "      <td>Female</td>\n",
       "      <td>True</td>\n",
       "    </tr>\n",
       "    <tr>\n",
       "      <th>997</th>\n",
       "      <td>998</td>\n",
       "      <td>A840201</td>\n",
       "      <td>UNKNOWN</td>\n",
       "      <td>2021-08-10 12:01:00</td>\n",
       "      <td>2021-08-10T12:01:00.000</td>\n",
       "      <td>2014-08-05T00:00:00.000</td>\n",
       "      <td>Transfer</td>\n",
       "      <td>Snr</td>\n",
       "      <td>Cat</td>\n",
       "      <td>Neutered Male</td>\n",
       "      <td>7 years</td>\n",
       "      <td>Domestic Medium Hair</td>\n",
       "      <td>Brown Tabby</td>\n",
       "      <td>7 years</td>\n",
       "      <td>Male</td>\n",
       "      <td>False</td>\n",
       "    </tr>\n",
       "    <tr>\n",
       "      <th>998</th>\n",
       "      <td>999</td>\n",
       "      <td>A836992</td>\n",
       "      <td>*Patsy</td>\n",
       "      <td>2021-08-10 12:00:00</td>\n",
       "      <td>2021-08-10T12:00:00.000</td>\n",
       "      <td>2021-05-21T00:00:00.000</td>\n",
       "      <td>Transfer</td>\n",
       "      <td>Partner</td>\n",
       "      <td>Cat</td>\n",
       "      <td>Spayed Female</td>\n",
       "      <td>2 months</td>\n",
       "      <td>Domestic Shorthair</td>\n",
       "      <td>Torbie</td>\n",
       "      <td>2 months</td>\n",
       "      <td>Female</td>\n",
       "      <td>False</td>\n",
       "    </tr>\n",
       "  </tbody>\n",
       "</table>\n",
       "<p>999 rows × 16 columns</p>\n",
       "</div>"
      ],
      "text/plain": [
       "     index animal_id      name            datetime                monthyear  \\\n",
       "0        0   A740038    *Pearl 2021-09-03 11:26:00  2021-09-03T11:26:00.000   \n",
       "1        1   A841793  73 Grams 2021-09-03 11:11:00  2021-09-03T11:11:00.000   \n",
       "2        2   A841589   A841589 2021-09-03 11:04:00  2021-09-03T11:04:00.000   \n",
       "3        3   A841558   A841558 2021-09-03 11:04:00  2021-09-03T11:04:00.000   \n",
       "4        4   A841797   UNKNOWN 2021-09-03 10:25:00  2021-09-03T10:25:00.000   \n",
       "..     ...       ...       ...                 ...                      ...   \n",
       "994    995   A722704      Kano 2021-08-10 13:46:00  2021-08-10T13:46:00.000   \n",
       "995    996   A840342   A840342 2021-08-10 13:08:00  2021-08-10T13:08:00.000   \n",
       "996    997   A840048      *Ivy 2021-08-10 12:28:00  2021-08-10T12:28:00.000   \n",
       "997    998   A840201   UNKNOWN 2021-08-10 12:01:00  2021-08-10T12:01:00.000   \n",
       "998    999   A836992    *Patsy 2021-08-10 12:00:00  2021-08-10T12:00:00.000   \n",
       "\n",
       "               date_of_birth outcome_type outcome_subtype animal_type  \\\n",
       "0    2016-10-10T00:00:00.000     Transfer         Partner         Dog   \n",
       "1    2021-09-01T00:00:00.000     Transfer         Partner         Cat   \n",
       "2    2020-08-30T00:00:00.000     Transfer         Partner         Dog   \n",
       "3    2021-06-30T00:00:00.000     Transfer         Partner         Dog   \n",
       "4    2019-09-03T00:00:00.000   Euthanasia     Rabies Risk       Other   \n",
       "..                       ...          ...             ...         ...   \n",
       "994  2015-03-21T00:00:00.000     Transfer         Partner         Dog   \n",
       "995  2014-08-08T00:00:00.000     Transfer         Partner         Dog   \n",
       "996  2019-08-01T00:00:00.000     Adoption         Partner         Dog   \n",
       "997  2014-08-05T00:00:00.000     Transfer             Snr         Cat   \n",
       "998  2021-05-21T00:00:00.000     Transfer         Partner         Cat   \n",
       "\n",
       "    sex_upon_outcome age_upon_outcome                    breed  \\\n",
       "0      Spayed Female          4 years   Dachshund Wirehair Mix   \n",
       "1      Intact Female           2 days       Domestic Shorthair   \n",
       "2        Intact Male           1 year  Australian Shepherd Mix   \n",
       "3      Intact Female         2 months  Australian Shepherd Mix   \n",
       "4            Unknown             NULL                  Raccoon   \n",
       "..               ...              ...                      ...   \n",
       "994    Neutered Male          6 years             Pit Bull Mix   \n",
       "995    Intact Female          7 years      Chihuahua Shorthair   \n",
       "996    Spayed Female          2 years  Australian Shepherd Mix   \n",
       "997    Neutered Male          7 years     Domestic Medium Hair   \n",
       "998    Spayed Female         2 months       Domestic Shorthair   \n",
       "\n",
       "                color  new_age1 new_sex1  outcome_subtype_missing  \n",
       "0               Black   4 years   Female                    False  \n",
       "1         White/Black    2 days   Female                    False  \n",
       "2          Blue Merle   1 years     Male                    False  \n",
       "3    Blue Merle/White  2 months   Female                    False  \n",
       "4          Black/Gray      NULL  Unknown                    False  \n",
       "..                ...       ...      ...                      ...  \n",
       "994        Fawn/White   6 years     Male                    False  \n",
       "995               Tan   7 years   Female                    False  \n",
       "996          Tricolor   2 years   Female                     True  \n",
       "997       Brown Tabby   7 years     Male                    False  \n",
       "998            Torbie  2 months   Female                    False  \n",
       "\n",
       "[999 rows x 16 columns]"
      ]
     },
     "execution_count": 45,
     "metadata": {},
     "output_type": "execute_result"
    }
   ],
   "source": [
    "animals_clean.reset_index()\n",
    "#takes index, makes it a column, and resets the index"
   ]
  },
  {
   "cell_type": "markdown",
   "metadata": {
    "heading_collapsed": true
   },
   "source": [
    "# Level Up: `.applymap()`"
   ]
  },
  {
   "cell_type": "markdown",
   "metadata": {
    "hidden": true
   },
   "source": [
    "`.applymap()` is used to apply a transformation to each element of a DataFrame."
   ]
  },
  {
   "cell_type": "code",
   "execution_count": null,
   "metadata": {
    "hidden": true,
    "scrolled": true
   },
   "outputs": [],
   "source": [
    "# This line will apply the base `type()` function to \n",
    "# all entries of the DataFrame.\n",
    "\n",
    "animals.applymap(type)"
   ]
  },
  {
   "cell_type": "markdown",
   "metadata": {
    "heading_collapsed": true
   },
   "source": [
    "# Level Up: Faster NumPy Methods"
   ]
  },
  {
   "cell_type": "markdown",
   "metadata": {
    "hidden": true
   },
   "source": [
    "In general, `np.where()` and `np.select()` are faster than `map()`. This won't matter too much with reasonably-sized data but can be a consideration for ***big data***."
   ]
  },
  {
   "cell_type": "markdown",
   "metadata": {
    "heading_collapsed": true,
    "hidden": true
   },
   "source": [
    "## NumPy's `where()` Method"
   ]
  },
  {
   "cell_type": "code",
   "execution_count": null,
   "metadata": {
    "hidden": true,
    "scrolled": true
   },
   "outputs": [],
   "source": [
    "animals['new_age2'] = np.where(animals['age_upon_outcome'] == '1 year',\n",
    "                              '1 years', animals['age_upon_outcome'])\n",
    "animals['new_age2']"
   ]
  },
  {
   "cell_type": "code",
   "execution_count": null,
   "metadata": {
    "hidden": true
   },
   "outputs": [],
   "source": [
    "# Check we got the same results with np.where()\n",
    "(animals['new_age1'] != animals['new_age2']).sum()"
   ]
  },
  {
   "cell_type": "code",
   "execution_count": null,
   "metadata": {
    "hidden": true
   },
   "outputs": [],
   "source": [
    "# Let's time how long it takes .map() to run by running it multiple times\n",
    "%timeit animals['new_age1'] = animals['age_upon_outcome'].map(one_year)"
   ]
  },
  {
   "cell_type": "code",
   "execution_count": null,
   "metadata": {
    "hidden": true
   },
   "outputs": [],
   "source": [
    "# Let's time how long it takes np.where() to run by running it multiple times\n",
    "%timeit animals['new_age2'] = np.where(animals['age_upon_outcome'] == '1 year',\\\n",
    "                                       '1 years',animals['age_upon_outcome'])"
   ]
  },
  {
   "cell_type": "markdown",
   "metadata": {
    "heading_collapsed": true,
    "hidden": true
   },
   "source": [
    "## NumPy's `select()` Method"
   ]
  },
  {
   "cell_type": "markdown",
   "metadata": {
    "hidden": true
   },
   "source": [
    "Again, `numpy` will be faster:"
   ]
  },
  {
   "cell_type": "code",
   "execution_count": null,
   "metadata": {
    "hidden": true
   },
   "outputs": [],
   "source": [
    "conditions = [animals['sex_upon_outcome'] == 'Neutered Male',\n",
    "             animals['sex_upon_outcome'] == 'Intact Male',\n",
    "             animals['sex_upon_outcome'] == 'Spayed Female',\n",
    "             animals['sex_upon_outcome'] == 'Intact Female',\n",
    "             animals['sex_upon_outcome'] == 'Unknown',\n",
    "             animals['sex_upon_outcome'] == 'NULL']\n",
    "\n",
    "choices = ['Male', 'Male', 'Female', 'Female', 'Unknown', 'Unknown']"
   ]
  },
  {
   "cell_type": "code",
   "execution_count": null,
   "metadata": {
    "hidden": true
   },
   "outputs": [],
   "source": [
    "animals['new_sex2'] = np.select(conditions, choices)\n",
    "animals['new_sex2']"
   ]
  },
  {
   "cell_type": "code",
   "execution_count": null,
   "metadata": {
    "hidden": true
   },
   "outputs": [],
   "source": [
    "# Check we got the same results with np.where()\n",
    "(animals['new_sex1'] != animals['new_sex2']).sum()"
   ]
  },
  {
   "cell_type": "code",
   "execution_count": null,
   "metadata": {
    "hidden": true
   },
   "outputs": [],
   "source": [
    "# Let's time how long it takes .map() to run by running it multiple times\n",
    "%timeit animals['new_sex1'] = animals['sex_upon_outcome'].map(sex_mapper)"
   ]
  },
  {
   "cell_type": "code",
   "execution_count": null,
   "metadata": {
    "hidden": true
   },
   "outputs": [],
   "source": [
    "# Let's time how long it takes np.select() to run by running it multiple times\n",
    "%timeit animals['new_sex2'] = np.select(conditions, choices)"
   ]
  }
 ],
 "metadata": {
  "kernelspec": {
   "display_name": "Python 3",
   "language": "python",
   "name": "python3"
  },
  "language_info": {
   "codemirror_mode": {
    "name": "ipython",
    "version": 3
   },
   "file_extension": ".py",
   "mimetype": "text/x-python",
   "name": "python",
   "nbconvert_exporter": "python",
   "pygments_lexer": "ipython3",
   "version": "3.8.5"
  },
  "toc": {
   "base_numbering": 1,
   "nav_menu": {},
   "number_sections": true,
   "sideBar": true,
   "skip_h1_title": false,
   "title_cell": "Table of Contents",
   "title_sidebar": "TOC",
   "toc_cell": true,
   "toc_position": {
    "height": "calc(100% - 180px)",
    "left": "10px",
    "top": "150px",
    "width": "267px"
   },
   "toc_section_display": true,
   "toc_window_display": true
  }
 },
 "nbformat": 4,
 "nbformat_minor": 4
}
